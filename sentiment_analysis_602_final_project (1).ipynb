{
 "cells": [
  {
   "cell_type": "markdown",
   "metadata": {
    "id": "04104b4e"
   },
   "source": [
    "# Tweeter sentiment Analysis\n",
    "\n",
    "- The notebook is dedicated to the covid-19 tweet sentiment analysis.\n",
    "- The data is taken from the source is - https://www.kaggle.com/heyytanay/covidindia-tweets-with-sentiment\n",
    "\n",
    "- The data consists of tweets which contained the word \"covidindia\" from the beginning of the pandemic to 28-04-2021. Along with the tweet and it's metadata columns, there's also a sentiment column which has 2 possible values: NEGATIVE and POSITIVE."
   ]
  },
  {
   "cell_type": "markdown",
   "metadata": {
    "id": "d36a0224"
   },
   "source": [
    "## 1. Import Libraries"
   ]
  },
  {
   "cell_type": "code",
   "execution_count": null,
   "metadata": {
    "colab": {
     "base_uri": "https://localhost:8080/"
    },
    "id": "J9nU0gw6whTO",
    "outputId": "e7f4ae77-e8f9-47ad-e97a-34e0731d9086"
   },
   "outputs": [
    {
     "name": "stdout",
     "output_type": "stream",
     "text": [
      "Collecting fasttext\n",
      "  Downloading fasttext-0.9.2.tar.gz (68 kB)\n",
      "\u001b[?25l\r",
      "\u001b[K     |████▊                           | 10 kB 22.7 MB/s eta 0:00:01\r",
      "\u001b[K     |█████████▌                      | 20 kB 24.7 MB/s eta 0:00:01\r",
      "\u001b[K     |██████████████▎                 | 30 kB 26.8 MB/s eta 0:00:01\r",
      "\u001b[K     |███████████████████             | 40 kB 20.9 MB/s eta 0:00:01\r",
      "\u001b[K     |███████████████████████▉        | 51 kB 16.6 MB/s eta 0:00:01\r",
      "\u001b[K     |████████████████████████████▋   | 61 kB 13.8 MB/s eta 0:00:01\r",
      "\u001b[K     |████████████████████████████████| 68 kB 4.7 MB/s \n",
      "\u001b[?25hCollecting pybind11>=2.2\n",
      "  Using cached pybind11-2.8.1-py2.py3-none-any.whl (208 kB)\n",
      "Requirement already satisfied: setuptools>=0.7.0 in /usr/local/lib/python3.7/dist-packages (from fasttext) (57.4.0)\n",
      "Requirement already satisfied: numpy in /usr/local/lib/python3.7/dist-packages (from fasttext) (1.19.5)\n",
      "Building wheels for collected packages: fasttext\n",
      "  Building wheel for fasttext (setup.py) ... \u001b[?25l\u001b[?25hdone\n",
      "  Created wheel for fasttext: filename=fasttext-0.9.2-cp37-cp37m-linux_x86_64.whl size=3122730 sha256=09c18c2d91214590558d018903d2ba08fa9661fe231df75d57e0a423a6863b02\n",
      "  Stored in directory: /root/.cache/pip/wheels/4e/ca/bf/b020d2be95f7641801a6597a29c8f4f19e38f9c02a345bab9b\n",
      "Successfully built fasttext\n",
      "Installing collected packages: pybind11, fasttext\n",
      "Successfully installed fasttext-0.9.2 pybind11-2.8.1\n"
     ]
    }
   ],
   "source": [
    "!pip install fasttext"
   ]
  },
  {
   "cell_type": "code",
   "execution_count": null,
   "metadata": {
    "colab": {
     "base_uri": "https://localhost:8080/"
    },
    "id": "18fb4d70",
    "outputId": "bb3a2d42-8bb5-43dc-d515-3548595df88b"
   },
   "outputs": [
    {
     "name": "stdout",
     "output_type": "stream",
     "text": [
      "[nltk_data] Downloading package stopwords to /root/nltk_data...\n",
      "[nltk_data]   Package stopwords is already up-to-date!\n",
      "[nltk_data] Downloading package vader_lexicon to /root/nltk_data...\n",
      "[nltk_data]   Package vader_lexicon is already up-to-date!\n"
     ]
    }
   ],
   "source": [
    "import warnings\n",
    "warnings.filterwarnings(\"ignore\")\n",
    "\n",
    "import os\n",
    "import re\n",
    "import nltk\n",
    "import string\n",
    "import operator\n",
    "import fasttext\n",
    "import numpy as np\n",
    "import pandas as pd\n",
    "import seaborn as sns\n",
    "from tqdm.notebook import tqdm\n",
    "from collections import Counter\n",
    "import matplotlib.pyplot as plt\n",
    "from collections import defaultdict\n",
    "from nltk.corpus import stopwords\n",
    "from nltk.stem import PorterStemmer\n",
    "from wordcloud import WordCloud, STOPWORDS\n",
    "from gensim.parsing.preprocessing import remove_stopwords\n",
    "from sklearn.model_selection import train_test_split, GridSearchCV\n",
    "from nltk.sentiment.vader import SentimentIntensityAnalyzer\n",
    "\n",
    "from mlxtend.plotting import plot_confusion_matrix\n",
    "from sklearn.metrics import f1_score, precision_score, recall_score, accuracy_score\n",
    "from sklearn.metrics import confusion_matrix, roc_curve, roc_auc_score, classification_report\n",
    "\n",
    "import plotly.graph_objects as go\n",
    "from plotly.offline import download_plotlyjs, init_notebook_mode, plot, iplot\n",
    "\n",
    "nltk.download('stopwords')\n",
    "nltk.download('vader_lexicon')\n",
    "stopwords = stopwords.words('english')"
   ]
  },
  {
   "cell_type": "code",
   "execution_count": null,
   "metadata": {
    "id": "sSIDd2A8I2MB"
   },
   "outputs": [],
   "source": [
    "import tensorflow as tf\n",
    "import tensorflow_hub as hub\n",
    "from tensorflow.keras import Model\n",
    "from tensorflow.keras import backend as K\n",
    "from tensorflow.keras.backend import clear_session\n",
    "from tensorflow.keras.callbacks import EarlyStopping \n",
    "from tensorflow.keras.layers import Dense, Input, Dropout, Flatten, Embedding, SpatialDropout1D, LSTM, Activation, Bidirectional, Concatenate"
   ]
  },
  {
   "cell_type": "markdown",
   "metadata": {
    "id": "a8c54c8b"
   },
   "source": [
    "## 2. Import Data"
   ]
  },
  {
   "cell_type": "code",
   "execution_count": null,
   "metadata": {
    "colab": {
     "base_uri": "https://localhost:8080/",
     "height": 310
    },
    "id": "972bb484",
    "outputId": "b50abf97-4ce1-426e-dd17-c1bcc491f338"
   },
   "outputs": [
    {
     "name": "stdout",
     "output_type": "stream",
     "text": [
      "Shape of the original dataset is (9655, 10).\n"
     ]
    },
    {
     "data": {
      "text/html": [
       "<div>\n",
       "<style scoped>\n",
       "    .dataframe tbody tr th:only-of-type {\n",
       "        vertical-align: middle;\n",
       "    }\n",
       "\n",
       "    .dataframe tbody tr th {\n",
       "        vertical-align: top;\n",
       "    }\n",
       "\n",
       "    .dataframe thead th {\n",
       "        text-align: right;\n",
       "    }\n",
       "</style>\n",
       "<table border=\"1\" class=\"dataframe\">\n",
       "  <thead>\n",
       "    <tr style=\"text-align: right;\">\n",
       "      <th></th>\n",
       "      <th>created_at</th>\n",
       "      <th>user_id</th>\n",
       "      <th>username</th>\n",
       "      <th>name</th>\n",
       "      <th>place</th>\n",
       "      <th>tweet</th>\n",
       "      <th>language</th>\n",
       "      <th>replies_count</th>\n",
       "      <th>hashtags</th>\n",
       "      <th>sentiment</th>\n",
       "    </tr>\n",
       "  </thead>\n",
       "  <tbody>\n",
       "    <tr>\n",
       "      <th>0</th>\n",
       "      <td>2021-04-27 23:55:06 UTC</td>\n",
       "      <td>23772644</td>\n",
       "      <td>bbcindonesia</td>\n",
       "      <td>BBC News Indonesia</td>\n",
       "      <td>NaN</td>\n",
       "      <td>Varian baru Covid India sudah masuk Indonesia,...</td>\n",
       "      <td>in</td>\n",
       "      <td>15</td>\n",
       "      <td>[]</td>\n",
       "      <td>NEGATIVE</td>\n",
       "    </tr>\n",
       "    <tr>\n",
       "      <th>1</th>\n",
       "      <td>2021-04-27 23:35:39 UTC</td>\n",
       "      <td>17128975</td>\n",
       "      <td>cnnindonesia</td>\n",
       "      <td>CNN Indonesia</td>\n",
       "      <td>NaN</td>\n",
       "      <td>Badai Covid India hingga Junta Myanmar Pikir-p...</td>\n",
       "      <td>in</td>\n",
       "      <td>0</td>\n",
       "      <td>['kilasinternasional']</td>\n",
       "      <td>NEGATIVE</td>\n",
       "    </tr>\n",
       "    <tr>\n",
       "      <th>2</th>\n",
       "      <td>2021-04-27 23:18:00 UTC</td>\n",
       "      <td>61377303</td>\n",
       "      <td>lintas_mnctv</td>\n",
       "      <td>Lintas_MNCTV</td>\n",
       "      <td>NaN</td>\n",
       "      <td>Peringatan WHO: Krisis Covid India Bisa Makin ...</td>\n",
       "      <td>in</td>\n",
       "      <td>0</td>\n",
       "      <td>[]</td>\n",
       "      <td>NEGATIVE</td>\n",
       "    </tr>\n",
       "    <tr>\n",
       "      <th>3</th>\n",
       "      <td>2021-04-27 23:16:27 UTC</td>\n",
       "      <td>576348125</td>\n",
       "      <td>nagma_morarji</td>\n",
       "      <td>Nagma</td>\n",
       "      <td>NaN</td>\n",
       "      <td>German Army working around the clock to help I...</td>\n",
       "      <td>en</td>\n",
       "      <td>0</td>\n",
       "      <td>['covidemergency2021', 'covidsecondwaveinindia...</td>\n",
       "      <td>NEGATIVE</td>\n",
       "    </tr>\n",
       "    <tr>\n",
       "      <th>4</th>\n",
       "      <td>2021-04-27 22:04:08 UTC</td>\n",
       "      <td>559652727</td>\n",
       "      <td>pkashwan</td>\n",
       "      <td>Prakash Kashwan प्रकाश कसवाँ</td>\n",
       "      <td>NaN</td>\n",
       "      <td>TBC, this is an old report. The point is that ...</td>\n",
       "      <td>en</td>\n",
       "      <td>0</td>\n",
       "      <td>['covidindiainfo', 'covidindia2021', 'covidind...</td>\n",
       "      <td>NEGATIVE</td>\n",
       "    </tr>\n",
       "  </tbody>\n",
       "</table>\n",
       "</div>"
      ],
      "text/plain": [
       "                created_at  ...  sentiment\n",
       "0  2021-04-27 23:55:06 UTC  ...   NEGATIVE\n",
       "1  2021-04-27 23:35:39 UTC  ...   NEGATIVE\n",
       "2  2021-04-27 23:18:00 UTC  ...   NEGATIVE\n",
       "3  2021-04-27 23:16:27 UTC  ...   NEGATIVE\n",
       "4  2021-04-27 22:04:08 UTC  ...   NEGATIVE\n",
       "\n",
       "[5 rows x 10 columns]"
      ]
     },
     "execution_count": 5,
     "metadata": {},
     "output_type": "execute_result"
    }
   ],
   "source": [
    "df = pd.read_csv(\"tweets.csv\") ## reading dataset\n",
    "print(\"Shape of the original dataset is {}.\".format(df.shape)) ## getting shape\n",
    "df.head() ## getting the top 5 rows"
   ]
  },
  {
   "cell_type": "markdown",
   "metadata": {
    "id": "ab54819e"
   },
   "source": [
    "- The dataset consists of 10 columns. Each of them represents the details about the tweets such as user_id, username, language on which tweet has been posted etc.\n",
    "- We are going to deal with only english language here."
   ]
  },
  {
   "cell_type": "markdown",
   "metadata": {
    "id": "721a0b47"
   },
   "source": [
    "### 2.1 Language distribution and selection"
   ]
  },
  {
   "cell_type": "code",
   "execution_count": null,
   "metadata": {
    "colab": {
     "base_uri": "https://localhost:8080/"
    },
    "id": "c60a25b8",
    "outputId": "6191f12c-91f5-40b6-e0fa-f5dd7b908939",
    "scrolled": true
   },
   "outputs": [
    {
     "data": {
      "text/plain": [
       "en     5825\n",
       "hi     1265\n",
       "ta     1116\n",
       "und     333\n",
       "bn      215\n",
       "ml      168\n",
       "mr      165\n",
       "kn      164\n",
       "te       89\n",
       "gu       74\n",
       "it       45\n",
       "in       43\n",
       "ur       33\n",
       "or       28\n",
       "es       21\n",
       "pt       21\n",
       "tl       12\n",
       "et        8\n",
       "pa        5\n",
       "fr        4\n",
       "ar        4\n",
       "nl        3\n",
       "de        3\n",
       "ca        3\n",
       "da        1\n",
       "ja        1\n",
       "cs        1\n",
       "no        1\n",
       "lt        1\n",
       "ro        1\n",
       "ne        1\n",
       "lv        1\n",
       "Name: language, dtype: int64"
      ]
     },
     "execution_count": 6,
     "metadata": {},
     "output_type": "execute_result"
    }
   ],
   "source": [
    "## langauge distributions\n",
    "df[\"language\"].value_counts()"
   ]
  },
  {
   "cell_type": "code",
   "execution_count": null,
   "metadata": {
    "colab": {
     "base_uri": "https://localhost:8080/"
    },
    "id": "5cb0124f",
    "outputId": "15e5ffbc-46ae-40b8-e9a0-4c1cb75e71e9"
   },
   "outputs": [
    {
     "name": "stdout",
     "output_type": "stream",
     "text": [
      "Shape after selecting only english langauge is (5825, 10).\n",
      "The percentage of english tweets present in the entire dataset is 60.331.\n"
     ]
    }
   ],
   "source": [
    "## selecting only english language\n",
    "df_m1 = df[df[\"language\"] == \"en\"]\n",
    "\n",
    "## shape after getting the only language\n",
    "print(\"Shape after selecting only english langauge is {}.\".format(df_m1.shape))\n",
    "\n",
    "## percentage of english sentence present in the entire dataset\n",
    "percent = round(((df_m1.shape[0]/df.shape[0]) * 100),3)\n",
    "print(\"The percentage of english tweets present in the entire dataset is {}.\".format(percent))"
   ]
  },
  {
   "cell_type": "code",
   "execution_count": null,
   "metadata": {
    "colab": {
     "base_uri": "https://localhost:8080/"
    },
    "id": "ebe1d788",
    "outputId": "6669c864-6032-46b6-c917-ed2f9e25858c"
   },
   "outputs": [
    {
     "name": "stdout",
     "output_type": "stream",
     "text": [
      "Shape of the dataset is (5825, 2).\n"
     ]
    }
   ],
   "source": [
    "## though there are 10 columns along with the sentiments, the columns which we are going to analyse for the analysis \n",
    "## will be the tweets and the sentiments\n",
    "## selecting the two columns\n",
    "df_m2 = df_m1[[\"tweet\", \"sentiment\"]]\n",
    "print(\"Shape of the dataset is {}.\".format(df_m2.shape))"
   ]
  },
  {
   "cell_type": "markdown",
   "metadata": {
    "id": "LNo8GGO622r4"
   },
   "source": [
    "### 2.2 Hypothesis Testing\n",
    "\n",
    "The tweets present in the dataset is done from various sources such as news channels, organizations, and normal users. After looking into tweets I can say most of the tweets are of negative sentiments. There are no difference in sentiments between any individual user or any news organization.\n",
    "\n",
    "#### Assumption : There is no difference in negative sentiment scores, tweeted by news organization and individual users.\n",
    "\n",
    "- alpha = 0.05 "
   ]
  },
  {
   "cell_type": "code",
   "execution_count": null,
   "metadata": {
    "id": "CY5sGSRZ26WX"
   },
   "outputs": [],
   "source": [
    "## selecting handfull of new organization to get tweets\n",
    "news_agency_org = ['Hindustan Times', 'Business Insider India🇮🇳', 'moneycontrol', 'ET NOW', 'Milaap', 'IndiaToday', 'CARE International',\n",
    "                   'The Pioneer', 'India Ahead News', 'Business Today', 'ETimes', 'FinancialXpress', 'Zee News English', 'Business Standard',\n",
    "                   'CNBC-TV18', 'Oneindia News', 'Forbes India', 'SportsFlashes', 'OTV', 'India TV', 'Change.org Australia', 'Amnesty International',\n",
    "                   'NDTV', 'The New Indian Express', 'GOODTIMES', 'The London Economic', 'TOI Mumbai', 'Advertising and Media Insider India',\n",
    "                   'Times of Oman', 'Bangalore Mirror', 'ETHealthWorld', 'National Herald', 'The Telegraph', 'BritAsia TV', 'Dynamite News']"
   ]
  },
  {
   "cell_type": "code",
   "execution_count": null,
   "metadata": {
    "id": "3X3BteWi5Jii"
   },
   "outputs": [],
   "source": [
    "## generating sentiment scores\n",
    "vader = SentimentIntensityAnalyzer()\n",
    "scores = df_m1['tweet'].apply(vader.polarity_scores).tolist()\n",
    "df_m1['Score'] = scores\n",
    "\n",
    "## getting individual scores\n",
    "neg_list = []; neu_list = []; pos_list = []; compound_list = []\n",
    "for i in df_m1['Score']:\n",
    "    neg_list.append(i['neg'])\n",
    "    neu_list.append(i['neu'])\n",
    "    pos_list.append(i['pos'])\n",
    "    compound_list.append(i['compound'])\n",
    "df_m1['Neg'] = neg_list; df_m1['Neu'] = neu_list\n",
    "df_m1['Pos'] = pos_list; df_m1['Compound'] = compound_list"
   ]
  },
  {
   "cell_type": "code",
   "execution_count": null,
   "metadata": {
    "colab": {
     "base_uri": "https://localhost:8080/"
    },
    "id": "OVs81i_w6DeJ",
    "outputId": "a919e544-037b-410f-eb5d-16bd3567eed9"
   },
   "outputs": [
    {
     "data": {
      "text/plain": [
       "Ttest_indResult(statistic=-8.344472987045567, pvalue=1.1011160917559113e-16)"
      ]
     },
     "execution_count": 11,
     "metadata": {},
     "output_type": "execute_result"
    }
   ],
   "source": [
    "from scipy.stats import ttest_ind, norm\n",
    "\n",
    "## to avoid the outliers issue in speed we are taking the speed_df as created above.\n",
    "news_tweets = df_m1[df_m1['name'].isin(news_agency_org)]\n",
    "indi_tweets = df_m1[~df_m1['name'].isin(news_agency_org)]\n",
    "\n",
    "nt = news_tweets[\"Neg\"].values\n",
    "indt = indi_tweets[\"Neg\"].values\n",
    "\n",
    "ttest_ind(nt, indt, equal_var=False)"
   ]
  },
  {
   "cell_type": "markdown",
   "metadata": {
    "id": "lf0GDqlN6zis"
   },
   "source": [
    "* As p-value is very very less than alpha, that means we reject the null hypothesis using t-test.\n",
    "* That mean there is a significant difference in negative sentiment scores,tweeted by news organization and individual users.\n",
    "* That means tweets done by news agency has less negativity in their tweets as compared to individual users."
   ]
  },
  {
   "cell_type": "markdown",
   "metadata": {
    "id": "bb9f7074"
   },
   "source": [
    "### 2.3 Target Label Analysis"
   ]
  },
  {
   "cell_type": "code",
   "execution_count": null,
   "metadata": {
    "colab": {
     "base_uri": "https://localhost:8080/",
     "height": 411
    },
    "id": "c7e082a5",
    "outputId": "1ebc322f-8df8-4b76-f475-ab86472ef85a"
   },
   "outputs": [
    {
     "data": {
      "image/png": "[encoded data removed]",
      "text/plain": [
       "<Figure size 504x504 with 1 Axes>"
      ]
     },
     "metadata": {},
     "output_type": "display_data"
    }
   ],
   "source": [
    "## using pie chart to analyse the sentiment labels present in the dataset\n",
    "plot = df_m2['sentiment'].value_counts(normalize=True).plot(kind='pie', autopct=\"%.1f\", figsize=(7,7))"
   ]
  },
  {
   "cell_type": "markdown",
   "metadata": {
    "id": "b8592e50"
   },
   "source": [
    "- The dataset is highly imbalance and only 19% of the data belongs to class positive and rest tweets are of negative sentiment."
   ]
  },
  {
   "cell_type": "markdown",
   "metadata": {
    "id": "69d54ce0"
   },
   "source": [
    "### 2.4 null value analysis"
   ]
  },
  {
   "cell_type": "code",
   "execution_count": null,
   "metadata": {
    "colab": {
     "base_uri": "https://localhost:8080/"
    },
    "id": "12d4bb00",
    "outputId": "92935b5c-22a2-4e76-8fa4-087ed339a432"
   },
   "outputs": [
    {
     "data": {
      "text/plain": [
       "tweet        0\n",
       "sentiment    0\n",
       "dtype: int64"
      ]
     },
     "execution_count": 13,
     "metadata": {},
     "output_type": "execute_result"
    }
   ],
   "source": [
    "df_m2.isna().sum() ## checking for null values"
   ]
  },
  {
   "cell_type": "markdown",
   "metadata": {
    "id": "09674433"
   },
   "source": [
    "- There are no null values present in the dataset."
   ]
  },
  {
   "cell_type": "markdown",
   "metadata": {
    "id": "c914a691"
   },
   "source": [
    "### 2.5 duplicate data analysis"
   ]
  },
  {
   "cell_type": "code",
   "execution_count": null,
   "metadata": {
    "colab": {
     "base_uri": "https://localhost:8080/",
     "height": 1000
    },
    "id": "f4358598",
    "outputId": "f4a9ce63-25e6-4b98-e4b8-83e2422363bb",
    "scrolled": true
   },
   "outputs": [
    {
     "data": {
      "text/html": [
       "<div>\n",
       "<style scoped>\n",
       "    .dataframe tbody tr th:only-of-type {\n",
       "        vertical-align: middle;\n",
       "    }\n",
       "\n",
       "    .dataframe tbody tr th {\n",
       "        vertical-align: top;\n",
       "    }\n",
       "\n",
       "    .dataframe thead th {\n",
       "        text-align: right;\n",
       "    }\n",
       "</style>\n",
       "<table border=\"1\" class=\"dataframe\">\n",
       "  <thead>\n",
       "    <tr style=\"text-align: right;\">\n",
       "      <th></th>\n",
       "      <th>tweet</th>\n",
       "      <th>sentiment</th>\n",
       "    </tr>\n",
       "  </thead>\n",
       "  <tbody>\n",
       "    <tr>\n",
       "      <th>262</th>\n",
       "      <td>National Conference president @OmarAbdullah ha...</td>\n",
       "      <td>NEGATIVE</td>\n",
       "    </tr>\n",
       "    <tr>\n",
       "      <th>368</th>\n",
       "      <td>Three more Haryana districts —Sonepat, Karnal ...</td>\n",
       "      <td>NEGATIVE</td>\n",
       "    </tr>\n",
       "    <tr>\n",
       "      <th>1268</th>\n",
       "      <td>Delhi's positivity rate has come down from mor...</td>\n",
       "      <td>NEGATIVE</td>\n",
       "    </tr>\n",
       "    <tr>\n",
       "      <th>1308</th>\n",
       "      <td>Covid: India sets another infection record as ...</td>\n",
       "      <td>NEGATIVE</td>\n",
       "    </tr>\n",
       "    <tr>\n",
       "      <th>1353</th>\n",
       "      <td>The US has decided to deploy “more supplies an...</td>\n",
       "      <td>NEGATIVE</td>\n",
       "    </tr>\n",
       "    <tr>\n",
       "      <th>1399</th>\n",
       "      <td>#CovidIndia | Amid an unprecedented surge in C...</td>\n",
       "      <td>NEGATIVE</td>\n",
       "    </tr>\n",
       "    <tr>\n",
       "      <th>1464</th>\n",
       "      <td>Amid a surge in Covid-19 cases across Jammu an...</td>\n",
       "      <td>NEGATIVE</td>\n",
       "    </tr>\n",
       "    <tr>\n",
       "      <th>1478</th>\n",
       "      <td>The Union government has scrapped basic custom...</td>\n",
       "      <td>NEGATIVE</td>\n",
       "    </tr>\n",
       "    <tr>\n",
       "      <th>1799</th>\n",
       "      <td>With ‘We Will Win’ Spirit, RSS Asks Its Swayam...</td>\n",
       "      <td>POSITIVE</td>\n",
       "    </tr>\n",
       "    <tr>\n",
       "      <th>3316</th>\n",
       "      <td>Details of #COVID19Vaccination registration fo...</td>\n",
       "      <td>NEGATIVE</td>\n",
       "    </tr>\n",
       "    <tr>\n",
       "      <th>3323</th>\n",
       "      <td>Pregnant &amp;amp; Lactating women have not been p...</td>\n",
       "      <td>NEGATIVE</td>\n",
       "    </tr>\n",
       "    <tr>\n",
       "      <th>3359</th>\n",
       "      <td>As per @MoHFW_INDIA Precautions and Contraindi...</td>\n",
       "      <td>NEGATIVE</td>\n",
       "    </tr>\n",
       "    <tr>\n",
       "      <th>3361</th>\n",
       "      <td>Yes, you can get vaccinated with 2nd #COVIDVac...</td>\n",
       "      <td>NEGATIVE</td>\n",
       "    </tr>\n",
       "    <tr>\n",
       "      <th>3782</th>\n",
       "      <td>India is one of the largest importers of the w...</td>\n",
       "      <td>POSITIVE</td>\n",
       "    </tr>\n",
       "    <tr>\n",
       "      <th>3799</th>\n",
       "      <td>Even during COVID, India saw a rise in exports...</td>\n",
       "      <td>POSITIVE</td>\n",
       "    </tr>\n",
       "    <tr>\n",
       "      <th>3938</th>\n",
       "      <td>During COVID, India found permanent solutions ...</td>\n",
       "      <td>NEGATIVE</td>\n",
       "    </tr>\n",
       "    <tr>\n",
       "      <th>3939</th>\n",
       "      <td>During COVID, India found permanent solutions ...</td>\n",
       "      <td>NEGATIVE</td>\n",
       "    </tr>\n",
       "    <tr>\n",
       "      <th>3940</th>\n",
       "      <td>During COVID, India found permanent solutions ...</td>\n",
       "      <td>NEGATIVE</td>\n",
       "    </tr>\n",
       "    <tr>\n",
       "      <th>3943</th>\n",
       "      <td>During COVID, India found permanent solutions ...</td>\n",
       "      <td>NEGATIVE</td>\n",
       "    </tr>\n",
       "    <tr>\n",
       "      <th>3946</th>\n",
       "      <td>During COVID, India found permanent solutions ...</td>\n",
       "      <td>NEGATIVE</td>\n",
       "    </tr>\n",
       "    <tr>\n",
       "      <th>4040</th>\n",
       "      <td>In testing times of COVID, India has got recor...</td>\n",
       "      <td>POSITIVE</td>\n",
       "    </tr>\n",
       "    <tr>\n",
       "      <th>4127</th>\n",
       "      <td>#LifeSciences — Can a post-COVID India-Austral...</td>\n",
       "      <td>POSITIVE</td>\n",
       "    </tr>\n",
       "    <tr>\n",
       "      <th>4134</th>\n",
       "      <td>#LifeSciences — Can a post-COVID India-Austral...</td>\n",
       "      <td>POSITIVE</td>\n",
       "    </tr>\n",
       "    <tr>\n",
       "      <th>4456</th>\n",
       "      <td>During COVID, India has attracted foreign inve...</td>\n",
       "      <td>POSITIVE</td>\n",
       "    </tr>\n",
       "    <tr>\n",
       "      <th>4457</th>\n",
       "      <td>During COVID, India has attracted foreign inve...</td>\n",
       "      <td>POSITIVE</td>\n",
       "    </tr>\n",
       "    <tr>\n",
       "      <th>4737</th>\n",
       "      <td>Thousands of companies mull China exit after C...</td>\n",
       "      <td>NEGATIVE</td>\n",
       "    </tr>\n",
       "    <tr>\n",
       "      <th>4827</th>\n",
       "      <td>.@TCS' work-from-home (WFH) model has set new ...</td>\n",
       "      <td>NEGATIVE</td>\n",
       "    </tr>\n",
       "    <tr>\n",
       "      <th>4855</th>\n",
       "      <td>Thousands of companies mull China exit after C...</td>\n",
       "      <td>NEGATIVE</td>\n",
       "    </tr>\n",
       "    <tr>\n",
       "      <th>4930</th>\n",
       "      <td>Despite COVID, India-Nepal Border Row Takes a ...</td>\n",
       "      <td>NEGATIVE</td>\n",
       "    </tr>\n",
       "    <tr>\n",
       "      <th>4948</th>\n",
       "      <td>☝️ This is a part of an ongoing series 'The Ec...</td>\n",
       "      <td>NEGATIVE</td>\n",
       "    </tr>\n",
       "    <tr>\n",
       "      <th>5258</th>\n",
       "      <td>Thousands of companies mull China exit after C...</td>\n",
       "      <td>NEGATIVE</td>\n",
       "    </tr>\n",
       "  </tbody>\n",
       "</table>\n",
       "</div>"
      ],
      "text/plain": [
       "                                                  tweet sentiment\n",
       "262   National Conference president @OmarAbdullah ha...  NEGATIVE\n",
       "368   Three more Haryana districts —Sonepat, Karnal ...  NEGATIVE\n",
       "1268  Delhi's positivity rate has come down from mor...  NEGATIVE\n",
       "1308  Covid: India sets another infection record as ...  NEGATIVE\n",
       "1353  The US has decided to deploy “more supplies an...  NEGATIVE\n",
       "1399  #CovidIndia | Amid an unprecedented surge in C...  NEGATIVE\n",
       "1464  Amid a surge in Covid-19 cases across Jammu an...  NEGATIVE\n",
       "1478  The Union government has scrapped basic custom...  NEGATIVE\n",
       "1799  With ‘We Will Win’ Spirit, RSS Asks Its Swayam...  POSITIVE\n",
       "3316  Details of #COVID19Vaccination registration fo...  NEGATIVE\n",
       "3323  Pregnant &amp; Lactating women have not been p...  NEGATIVE\n",
       "3359  As per @MoHFW_INDIA Precautions and Contraindi...  NEGATIVE\n",
       "3361  Yes, you can get vaccinated with 2nd #COVIDVac...  NEGATIVE\n",
       "3782  India is one of the largest importers of the w...  POSITIVE\n",
       "3799  Even during COVID, India saw a rise in exports...  POSITIVE\n",
       "3938  During COVID, India found permanent solutions ...  NEGATIVE\n",
       "3939  During COVID, India found permanent solutions ...  NEGATIVE\n",
       "3940  During COVID, India found permanent solutions ...  NEGATIVE\n",
       "3943  During COVID, India found permanent solutions ...  NEGATIVE\n",
       "3946  During COVID, India found permanent solutions ...  NEGATIVE\n",
       "4040  In testing times of COVID, India has got recor...  POSITIVE\n",
       "4127  #LifeSciences — Can a post-COVID India-Austral...  POSITIVE\n",
       "4134  #LifeSciences — Can a post-COVID India-Austral...  POSITIVE\n",
       "4456  During COVID, India has attracted foreign inve...  POSITIVE\n",
       "4457  During COVID, India has attracted foreign inve...  POSITIVE\n",
       "4737  Thousands of companies mull China exit after C...  NEGATIVE\n",
       "4827  .@TCS' work-from-home (WFH) model has set new ...  NEGATIVE\n",
       "4855  Thousands of companies mull China exit after C...  NEGATIVE\n",
       "4930  Despite COVID, India-Nepal Border Row Takes a ...  NEGATIVE\n",
       "4948  ☝️ This is a part of an ongoing series 'The Ec...  NEGATIVE\n",
       "5258  Thousands of companies mull China exit after C...  NEGATIVE"
      ]
     },
     "execution_count": 14,
     "metadata": {},
     "output_type": "execute_result"
    }
   ],
   "source": [
    "df_m2[df_m2.duplicated()] ## checking for duplicate rows"
   ]
  },
  {
   "cell_type": "markdown",
   "metadata": {
    "id": "7f94cf19"
   },
   "source": [
    "- So there are duplicate tweets present in the dataset."
   ]
  },
  {
   "cell_type": "code",
   "execution_count": null,
   "metadata": {
    "colab": {
     "base_uri": "https://localhost:8080/"
    },
    "id": "cbffd0a8",
    "outputId": "e6beee22-f7cc-4684-8ebf-7d9147d6fcfc"
   },
   "outputs": [
    {
     "name": "stdout",
     "output_type": "stream",
     "text": [
      "Shape after dropping the duplicate rows from the dataset is (5794, 2).\n"
     ]
    }
   ],
   "source": [
    "## checking the shape and removing them\n",
    "df_m3 = df_m2.drop_duplicates()\n",
    "print(\"Shape after dropping the duplicate rows from the dataset is {}.\".format(df_m3.shape))"
   ]
  },
  {
   "cell_type": "markdown",
   "metadata": {
    "id": "b6cf122d"
   },
   "source": [
    "## 3. Text Preprocessing"
   ]
  },
  {
   "cell_type": "markdown",
   "metadata": {
    "id": "d5a4827d"
   },
   "source": [
    "* Below are preprocessing techniques going to be used.\n",
    "\n",
    "1. lowercasing the text\n",
    "2. removal of retweets, url links, emoticons etc.\n",
    "3. removal od stopwords\n",
    "4. removal of punctuations\n",
    "5. stemming"
   ]
  },
  {
   "cell_type": "code",
   "execution_count": null,
   "metadata": {
    "id": "e0bfff26"
   },
   "outputs": [],
   "source": [
    "def retweet_cleaning(text):\n",
    "    \"\"\"\n",
    "    This function cleans all the re tweet tags, website tags along with al emojis, symbols and flags.\n",
    "    \"\"\"\n",
    "    \n",
    "    ## removal of retweets, hypertext, website tags\n",
    "    text = re.sub(r'RT\\s+@(.*?):', \"\", text)\n",
    "    text = re.sub(r'RT\\s+:', \"\", text)\n",
    "    text = re.sub(r'https?://\\S+|www\\.\\S+', '', text)\n",
    "    text = re.sub(r'https?:\\/\\/.*[\\r\\n]*', '', text)\n",
    "    text = re.sub(r\"@\\w+\\s+\", \"\", text)\n",
    "    \n",
    "    #emoji removal\n",
    "    emoji = re.compile(\n",
    "        u\"(\\ud83d[\\ude00-\\ude4f])|\"  # emoticons\n",
    "        u\"(\\ud83c[\\udf00-\\uffff])|\"  # symbols & pictographs (1 of 2)\n",
    "        u\"(\\ud83d[\\u0000-\\uddff])|\"  # symbols & pictographs (2 of 2)\n",
    "        u\"(\\ud83d[\\ude80-\\udeff])|\"  # transport & map symbols\n",
    "        u\"(\\ud83c[\\udde0-\\uddff])\"  # flags (iOS)\n",
    "    \"+\", flags=re.UNICODE)\n",
    "    text = emoji.sub(r'', text)\n",
    "    \n",
    "    ## lowercasing the text\n",
    "    text = text.lower()\n",
    "    \n",
    "    ##removal of #tags\n",
    "    text = re.sub(r\"#\\w+\", \"\", text)\n",
    "    \n",
    "    ## removing punctuation\n",
    "    text = re.sub(r'-', ' ', text)\n",
    "    text = re.sub(r'[^\\w\\s]', '', text)\n",
    "    \n",
    "    ## removal of stopwords\n",
    "    text = remove_stopwords(text)\n",
    "    \n",
    "    ## removing numbers\n",
    "    text = re.sub(\" \\d+\", \"\", text)\n",
    "    \n",
    "    ## stemming of words\n",
    "    ps = PorterStemmer()\n",
    "    text = \" \".join(ps.stem(val) for val in text.split())\n",
    "    \n",
    "    ## removing white spaces\n",
    "    text = re.sub(\"\\s\\s\\s+\", \"\", text)\n",
    "    text = text.strip()\n",
    "    \n",
    "    return text"
   ]
  },
  {
   "cell_type": "code",
   "execution_count": null,
   "metadata": {
    "id": "9faf4436"
   },
   "outputs": [],
   "source": [
    "## preprocessing \n",
    "df_m3[\"preprocessed_tweet\"] = df_m3[\"tweet\"].apply(lambda x : retweet_cleaning(x))"
   ]
  },
  {
   "cell_type": "code",
   "execution_count": null,
   "metadata": {
    "colab": {
     "base_uri": "https://localhost:8080/",
     "height": 424
    },
    "id": "843d96b4",
    "outputId": "0f4b1881-e259-4e71-be90-29d45e1b676a"
   },
   "outputs": [
    {
     "data": {
      "text/html": [
       "<div>\n",
       "<style scoped>\n",
       "    .dataframe tbody tr th:only-of-type {\n",
       "        vertical-align: middle;\n",
       "    }\n",
       "\n",
       "    .dataframe tbody tr th {\n",
       "        vertical-align: top;\n",
       "    }\n",
       "\n",
       "    .dataframe thead th {\n",
       "        text-align: right;\n",
       "    }\n",
       "</style>\n",
       "<table border=\"1\" class=\"dataframe\">\n",
       "  <thead>\n",
       "    <tr style=\"text-align: right;\">\n",
       "      <th></th>\n",
       "      <th>tweet</th>\n",
       "      <th>sentiment</th>\n",
       "      <th>preprocessed_tweet</th>\n",
       "    </tr>\n",
       "  </thead>\n",
       "  <tbody>\n",
       "    <tr>\n",
       "      <th>3</th>\n",
       "      <td>German Army working around the clock to help I...</td>\n",
       "      <td>NEGATIVE</td>\n",
       "      <td>german armi work clock help india covid crisi ...</td>\n",
       "    </tr>\n",
       "    <tr>\n",
       "      <th>4</th>\n",
       "      <td>TBC, this is an old report. The point is that ...</td>\n",
       "      <td>NEGATIVE</td>\n",
       "      <td>tbc old report point indian govern known use n...</td>\n",
       "    </tr>\n",
       "    <tr>\n",
       "      <th>5</th>\n",
       "      <td>\"Most government-linked disinformation efforts...</td>\n",
       "      <td>NEGATIVE</td>\n",
       "      <td>govern link disinform effort focus domest rese...</td>\n",
       "    </tr>\n",
       "    <tr>\n",
       "      <th>6</th>\n",
       "      <td>The news out of #India is devastating. #CovidI...</td>\n",
       "      <td>NEGATIVE</td>\n",
       "      <td>news devast hurt countri bay area help gilroy ...</td>\n",
       "    </tr>\n",
       "    <tr>\n",
       "      <th>7</th>\n",
       "      <td>Second COVID wave has hampered India's economi...</td>\n",
       "      <td>NEGATIVE</td>\n",
       "      <td>second covid wave hamper india econom recoveri...</td>\n",
       "    </tr>\n",
       "    <tr>\n",
       "      <th>...</th>\n",
       "      <td>...</td>\n",
       "      <td>...</td>\n",
       "      <td>...</td>\n",
       "    </tr>\n",
       "    <tr>\n",
       "      <th>9650</th>\n",
       "      <td>#COVID OR no Covid, India is not China or USA....</td>\n",
       "      <td>NEGATIVE</td>\n",
       "      <td>covid india china usa burgeon imagin medic doc...</td>\n",
       "    </tr>\n",
       "    <tr>\n",
       "      <th>9651</th>\n",
       "      <td>Watch #CoronaVirusUpdate from Gandhi Hospital ...</td>\n",
       "      <td>NEGATIVE</td>\n",
       "      <td>watch gandhi hospit peopl quarantin</td>\n",
       "    </tr>\n",
       "    <tr>\n",
       "      <th>9652</th>\n",
       "      <td>#CoronavirusUpdate || A 15 member team from #T...</td>\n",
       "      <td>POSITIVE</td>\n",
       "      <td>15 member team visit studi dealt posit case</td>\n",
       "    </tr>\n",
       "    <tr>\n",
       "      <th>9653</th>\n",
       "      <td>Ye gads ... Now NDTV’s  @harsha_ndtv reports a...</td>\n",
       "      <td>NEGATIVE</td>\n",
       "      <td>ye gad ndtv report italian tourist test posit ...</td>\n",
       "    </tr>\n",
       "    <tr>\n",
       "      <th>9654</th>\n",
       "      <td>#JUSTIN || #Telangana man who returned from #D...</td>\n",
       "      <td>NEGATIVE</td>\n",
       "      <td>man return test posit kept quarantin gandhi me...</td>\n",
       "    </tr>\n",
       "  </tbody>\n",
       "</table>\n",
       "<p>5794 rows × 3 columns</p>\n",
       "</div>"
      ],
      "text/plain": [
       "                                                  tweet  ...                                 preprocessed_tweet\n",
       "3     German Army working around the clock to help I...  ...  german armi work clock help india covid crisi ...\n",
       "4     TBC, this is an old report. The point is that ...  ...  tbc old report point indian govern known use n...\n",
       "5     \"Most government-linked disinformation efforts...  ...  govern link disinform effort focus domest rese...\n",
       "6     The news out of #India is devastating. #CovidI...  ...  news devast hurt countri bay area help gilroy ...\n",
       "7     Second COVID wave has hampered India's economi...  ...  second covid wave hamper india econom recoveri...\n",
       "...                                                 ...  ...                                                ...\n",
       "9650  #COVID OR no Covid, India is not China or USA....  ...  covid india china usa burgeon imagin medic doc...\n",
       "9651  Watch #CoronaVirusUpdate from Gandhi Hospital ...  ...                watch gandhi hospit peopl quarantin\n",
       "9652  #CoronavirusUpdate || A 15 member team from #T...  ...        15 member team visit studi dealt posit case\n",
       "9653  Ye gads ... Now NDTV’s  @harsha_ndtv reports a...  ...  ye gad ndtv report italian tourist test posit ...\n",
       "9654  #JUSTIN || #Telangana man who returned from #D...  ...  man return test posit kept quarantin gandhi me...\n",
       "\n",
       "[5794 rows x 3 columns]"
      ]
     },
     "execution_count": 18,
     "metadata": {},
     "output_type": "execute_result"
    }
   ],
   "source": [
    "df_m3"
   ]
  },
  {
   "cell_type": "markdown",
   "metadata": {
    "id": "2f86b82e"
   },
   "source": [
    "- As we can above, after preprocess the text quality has been imporved.\n",
    "- I have lower cased the data to avoid the case related word uniqueness, also applied potterstemmer to bring all the similar meaning words to it's root/stem words."
   ]
  },
  {
   "cell_type": "markdown",
   "metadata": {
    "id": "f16cc220"
   },
   "source": [
    "## 4. after preprocessing text analysis"
   ]
  },
  {
   "cell_type": "code",
   "execution_count": null,
   "metadata": {
    "colab": {
     "base_uri": "https://localhost:8080/"
    },
    "id": "a04a5f18",
    "outputId": "b5514c4e-8be9-425b-a25d-24f69de39828",
    "scrolled": true
   },
   "outputs": [
    {
     "data": {
      "text/plain": [
       "0       7\n",
       "1      53\n",
       "2      87\n",
       "3     136\n",
       "4     233\n",
       "5     217\n",
       "6     276\n",
       "7     380\n",
       "8     409\n",
       "9     428\n",
       "10    445\n",
       "11    441\n",
       "12    408\n",
       "13    328\n",
       "14    276\n",
       "15    248\n",
       "16    243\n",
       "17    216\n",
       "18    184\n",
       "19    153\n",
       "20    162\n",
       "21    127\n",
       "22     83\n",
       "23     68\n",
       "24     70\n",
       "25     40\n",
       "26     26\n",
       "27     15\n",
       "28     18\n",
       "29     11\n",
       "30      2\n",
       "31      1\n",
       "32      3\n",
       "Name: total_words, dtype: int64"
      ]
     },
     "execution_count": 19,
     "metadata": {},
     "output_type": "execute_result"
    }
   ],
   "source": [
    "## getting total words present in each sentence so that we can remove where there are no more words left\n",
    "df_m3[\"total_words\"] = df_m3[\"preprocessed_tweet\"].apply(lambda x : len(x.split()))\n",
    "df_m3[\"total_words\"].value_counts().sort_index() ## number of words present in the sentence in how many sentences"
   ]
  },
  {
   "cell_type": "code",
   "execution_count": null,
   "metadata": {
    "colab": {
     "base_uri": "https://localhost:8080/",
     "height": 424
    },
    "id": "df680394",
    "outputId": "343105d1-5d76-4246-bf67-d6232ceb0129"
   },
   "outputs": [
    {
     "data": {
      "text/html": [
       "<div>\n",
       "<style scoped>\n",
       "    .dataframe tbody tr th:only-of-type {\n",
       "        vertical-align: middle;\n",
       "    }\n",
       "\n",
       "    .dataframe tbody tr th {\n",
       "        vertical-align: top;\n",
       "    }\n",
       "\n",
       "    .dataframe thead th {\n",
       "        text-align: right;\n",
       "    }\n",
       "</style>\n",
       "<table border=\"1\" class=\"dataframe\">\n",
       "  <thead>\n",
       "    <tr style=\"text-align: right;\">\n",
       "      <th></th>\n",
       "      <th>tweet</th>\n",
       "      <th>sentiment</th>\n",
       "      <th>preprocessed_tweet</th>\n",
       "      <th>total_words</th>\n",
       "    </tr>\n",
       "  </thead>\n",
       "  <tbody>\n",
       "    <tr>\n",
       "      <th>25</th>\n",
       "      <td>I’ll be anchoring on @BBCWorld from 0600GMT. #...</td>\n",
       "      <td>NEGATIVE</td>\n",
       "      <td>ill anchoringgmt</td>\n",
       "      <td>2</td>\n",
       "    </tr>\n",
       "    <tr>\n",
       "      <th>57</th>\n",
       "      <td>Very scaled-down wedding, from the looks of it...</td>\n",
       "      <td>NEGATIVE</td>\n",
       "      <td>scale wed look</td>\n",
       "      <td>3</td>\n",
       "    </tr>\n",
       "    <tr>\n",
       "      <th>63</th>\n",
       "      <td>BADLY needs Oxygen #CovidIndia</td>\n",
       "      <td>NEGATIVE</td>\n",
       "      <td>badli need oxygen</td>\n",
       "      <td>3</td>\n",
       "    </tr>\n",
       "    <tr>\n",
       "      <th>71</th>\n",
       "      <td>And this goes on and on and on.... #CovidIndia...</td>\n",
       "      <td>NEGATIVE</td>\n",
       "      <td>goe</td>\n",
       "      <td>1</td>\n",
       "    </tr>\n",
       "    <tr>\n",
       "      <th>131</th>\n",
       "      <td>Everything you wanted to know about #vaccinepr...</td>\n",
       "      <td>NEGATIVE</td>\n",
       "      <td>want know</td>\n",
       "      <td>2</td>\n",
       "    </tr>\n",
       "    <tr>\n",
       "      <th>...</th>\n",
       "      <td>...</td>\n",
       "      <td>...</td>\n",
       "      <td>...</td>\n",
       "      <td>...</td>\n",
       "    </tr>\n",
       "    <tr>\n",
       "      <th>9592</th>\n",
       "      <td>Are you working from home? #covidindia #Corona...</td>\n",
       "      <td>NEGATIVE</td>\n",
       "      <td>work home</td>\n",
       "      <td>2</td>\n",
       "    </tr>\n",
       "    <tr>\n",
       "      <th>9628</th>\n",
       "      <td>#CoronoVirus #India Current Count is 125 #COVI...</td>\n",
       "      <td>NEGATIVE</td>\n",
       "      <td>current count</td>\n",
       "      <td>2</td>\n",
       "    </tr>\n",
       "    <tr>\n",
       "      <th>9633</th>\n",
       "      <td>Please understand what this 👇🏼 can mean. #covi...</td>\n",
       "      <td>NEGATIVE</td>\n",
       "      <td>understand mean</td>\n",
       "      <td>2</td>\n",
       "    </tr>\n",
       "    <tr>\n",
       "      <th>9642</th>\n",
       "      <td>#Kerala setting a great example #COVID19 #covi...</td>\n",
       "      <td>POSITIVE</td>\n",
       "      <td>set great exampl</td>\n",
       "      <td>3</td>\n",
       "    </tr>\n",
       "    <tr>\n",
       "      <th>9644</th>\n",
       "      <td>#CancelEverything Tweets Flood Twitter! #Cance...</td>\n",
       "      <td>NEGATIVE</td>\n",
       "      <td>tweet flood twitter</td>\n",
       "      <td>3</td>\n",
       "    </tr>\n",
       "  </tbody>\n",
       "</table>\n",
       "<p>283 rows × 4 columns</p>\n",
       "</div>"
      ],
      "text/plain": [
       "                                                  tweet  ... total_words\n",
       "25    I’ll be anchoring on @BBCWorld from 0600GMT. #...  ...           2\n",
       "57    Very scaled-down wedding, from the looks of it...  ...           3\n",
       "63                       BADLY needs Oxygen #CovidIndia  ...           3\n",
       "71    And this goes on and on and on.... #CovidIndia...  ...           1\n",
       "131   Everything you wanted to know about #vaccinepr...  ...           2\n",
       "...                                                 ...  ...         ...\n",
       "9592  Are you working from home? #covidindia #Corona...  ...           2\n",
       "9628  #CoronoVirus #India Current Count is 125 #COVI...  ...           2\n",
       "9633  Please understand what this 👇🏼 can mean. #covi...  ...           2\n",
       "9642  #Kerala setting a great example #COVID19 #covi...  ...           3\n",
       "9644  #CancelEverything Tweets Flood Twitter! #Cance...  ...           3\n",
       "\n",
       "[283 rows x 4 columns]"
      ]
     },
     "execution_count": 20,
     "metadata": {},
     "output_type": "execute_result"
    }
   ],
   "source": [
    "df_m3[df_m3[\"total_words\"] < 4]"
   ]
  },
  {
   "cell_type": "markdown",
   "metadata": {
    "id": "79901551"
   },
   "source": [
    "- As we can after text preprocessing we found out there are 283 sentences present where the number of words are less than 4.\n",
    "- I am keeping 4 as thereshold for the analysis, and removing all the sentences which are less than 4, because it makes no sense as a sentence."
   ]
  },
  {
   "cell_type": "code",
   "execution_count": null,
   "metadata": {
    "colab": {
     "base_uri": "https://localhost:8080/"
    },
    "id": "81dcd447",
    "outputId": "9a224409-0f1d-4348-904b-ae2cdb77e192"
   },
   "outputs": [
    {
     "name": "stdout",
     "output_type": "stream",
     "text": [
      "shape of the dataset after selecting more than 3 words for a preprocessed tweet is (5511, 4).\n"
     ]
    }
   ],
   "source": [
    "## selecting sentences more than 3 words\n",
    "df_m4 = df_m3[df_m3[\"total_words\"] > 3]\n",
    "print(\"shape of the dataset after selecting more than 3 words for a preprocessed tweet is {}.\".format(df_m4.shape))"
   ]
  },
  {
   "cell_type": "code",
   "execution_count": null,
   "metadata": {
    "id": "4a6_1SKyGbCT"
   },
   "outputs": [],
   "source": [
    "## encoding of output data\n",
    "df_m4['label'] = df_m4['sentiment'].map({\"NEGATIVE\":0, \"POSITIVE\":1})"
   ]
  },
  {
   "cell_type": "markdown",
   "metadata": {
    "id": "d57c9c02"
   },
   "source": [
    "## 5. word clouds"
   ]
  },
  {
   "cell_type": "code",
   "execution_count": null,
   "metadata": {
    "id": "7667cc67"
   },
   "outputs": [],
   "source": [
    "def wordClouds(text):\n",
    "    \"\"\"\n",
    "    This function creates the word cloud by taking all words into consideration.\n",
    "    \"\"\"\n",
    "    #Creating a list of words present in the text\n",
    "    corpus = [line.split() for line in text.values]\n",
    "    ## getting all sentences in one text\n",
    "    all_words = \" \".join(i for line in corpus for i in line)\n",
    "            \n",
    "    #plotting wordcloud\n",
    "    wordcloud = WordCloud(width = 1200, height = 1200, stopwords = set(STOPWORDS), min_font_size = 30,\n",
    "                          background_color = \"black\").generate(all_words)\n",
    "    #display image\n",
    "    plt.figure(figsize=(15,10))\n",
    "    plt.imshow(wordcloud, interpolation='bilinear')\n",
    "    plt.axis(\"off\")\n",
    "    plt.show()"
   ]
  },
  {
   "cell_type": "code",
   "execution_count": null,
   "metadata": {
    "colab": {
     "base_uri": "https://localhost:8080/",
     "height": 575
    },
    "id": "f2e1b9c0",
    "outputId": "0d30630c-7969-42dc-9989-878b2c952bf4"
   },
   "outputs": [
    {
     "data": {
      "image/png": "[encoded data removed]",
      "text/plain": [
       "<Figure size 1080x720 with 1 Axes>"
      ]
     },
     "metadata": {
      "needs_background": "light"
     },
     "output_type": "display_data"
    }
   ],
   "source": [
    "wordClouds(df_m4['preprocessed_tweet']) ## plotting word clouds"
   ]
  },
  {
   "cell_type": "markdown",
   "metadata": {
    "id": "30479640"
   },
   "source": [
    "- As the tweets are related to covid-19, we can see the words like help, case, test, death, report etc. along with live, update which shows the diversity of the tweets belong to various aspects."
   ]
  },
  {
   "cell_type": "markdown",
   "metadata": {
    "id": "0j60h2wtV0Jg"
   },
   "source": [
    "## 6. Uni, Bi, and Tri gram analysis"
   ]
  },
  {
   "cell_type": "code",
   "execution_count": null,
   "metadata": {
    "id": "OlQsL3pnV5r4"
   },
   "outputs": [],
   "source": [
    "#Source: - https://www.kaggle.com/sudalairajkumar/simple-exploration-notebook-qiqc\n",
    "\"\"\"function to generate ngrams and plot the data\"\"\"\n",
    "def generate_ngrams(text, n_gram):\n",
    "    #generating token\n",
    "    word = [token for token in str(text).lower().split(\" \") if token != \"\"]\n",
    "    #generating ngrams\n",
    "    ngrams = zip(*[word[i:] for i in range(n_gram)])\n",
    "    return [\" \".join(ngram) for ngram in ngrams]\n",
    "\n",
    "def freq_ngrams(text, n_gram, range):\n",
    "    \"\"\"parameters : text, number of ngrams(1,2,3), range(top ngrams)\n",
    "       return : plot of word vs no of occurance\n",
    "    \"\"\"\n",
    "\n",
    "    freq_dict = defaultdict(int)\n",
    "    for sent in tqdm(text):\n",
    "        for w in generate_ngrams(sent,n_gram):\n",
    "            freq_dict[w] += 1\n",
    "    freq_dict = dict(freq_dict)\n",
    "    #sorting dict to descending order\n",
    "    qstn_txt = pd.DataFrame(sorted(freq_dict.items(), key=lambda x: x[1], reverse=True))\n",
    "    qstn_txt.columns = [\"word\", \"wordcount\"]\n",
    "    #Plotting the data\n",
    "    data = [go.Bar(x=qstn_txt.word[0:range], y=qstn_txt.wordcount[0:range])]\n",
    "    iplot(data)"
   ]
  },
  {
   "cell_type": "code",
   "execution_count": null,
   "metadata": {
    "colab": {
     "base_uri": "https://localhost:8080/",
     "height": 574,
     "referenced_widgets": [
      "ac5c6a0425e14f5897edb8628127a150",
      "58e2108625e14916a55f9513170cc010",
      "280844861b174ac084e75fa3d4b6361a",
      "2d3a8475aea747b9958f7a444f81ea76",
      "43486bbfe70648b68514d90a461fd650",
      "ea4ddbd55c754e64929d76db962e572d",
      "457cf2a283a44418b946ec1f61969b39",
      "acd07a7dc0054b9e9ceeec5f0ec00f0d",
      "9f923e8063704f678bb4a51bd752e982",
      "0ab23a8f0099460084b6c8e65b7c4983",
      "90e2431963444a7abab778f0957daa88"
     ]
    },
    "id": "ByXb_nmOWTxt",
    "outputId": "69758b1c-c32d-4732-acb3-a23321dc1786"
   },
   "outputs": [
    {
     "data": {
      "application/vnd.jupyter.widget-view+json": {
       "model_id": "ac5c6a0425e14f5897edb8628127a150",
       "version_major": 2,
       "version_minor": 0
      },
      "text/plain": [
       "  0%|          | 0/5511 [00:00<?, ?it/s]"
      ]
     },
     "metadata": {},
     "output_type": "display_data"
    },
    {
     "data": {
      "text/html": [
       "<html>\n",
       "<head><meta charset=\"utf-8\" /></head>\n",
       "<body>\n",
       "    <div>\n",
       "            <script src=\"https://cdnjs.cloudflare.com/ajax/libs/mathjax/2.7.5/MathJax.js?config=TeX-AMS-MML_SVG\"></script><script type=\"text/javascript\">if (window.MathJax) {MathJax.Hub.Config({SVG: {font: \"STIX-Web\"}});}</script>\n",
       "                <script type=\"text/javascript\">window.PlotlyConfig = {MathJaxConfig: 'local'};</script>\n",
       "        <script src=\"https://cdn.plot.ly/plotly-latest.min.js\"></script>    \n",
       "            <div id=\"3a322f99-27a8-4619-baac-153eb47116f8\" class=\"plotly-graph-div\" style=\"height:525px; width:100%;\"></div>\n",
       "            <script type=\"text/javascript\">\n",
       "                \n",
       "                    window.PLOTLYENV=window.PLOTLYENV || {};\n",
       "                    \n",
       "                if (document.getElementById(\"3a322f99-27a8-4619-baac-153eb47116f8\")) {\n",
       "                    Plotly.newPlot(\n",
       "                        '3a322f99-27a8-4619-baac-153eb47116f8',\n",
       "                        [{\"type\": \"bar\", \"x\": [\"india\", \"covid\", \"case\", \"amp\", \"report\", \"state\", \"peopl\", \"test\", \"new\", \"coronaviru\", \"updat\", \"oxygen\", \"posit\", \"vaccin\", \"death\", \"day\", \"pm\", \"hospit\", \"help\", \"health\", \"live\", \"countri\", \"time\", \"need\", \"post\", \"govern\", \"govt\", \"lockdown\", \"delhi\", \"today\", \"say\", \"indian\", \"patient\", \"total\", \"number\", \"read\", \"pandem\", \"hour\", \"home\", \"fight\", \"minist\", \"activ\", \"here\", \"work\", \"world\", \"crisi\", \"rise\", \"lakh\", \"record\", \"suppli\"], \"y\": [1822, 1523, 1099, 550, 495, 472, 442, 421, 407, 406, 399, 376, 371, 367, 364, 363, 335, 330, 307, 301, 289, 287, 279, 275, 265, 261, 260, 249, 229, 229, 218, 217, 217, 213, 211, 196, 194, 194, 192, 191, 189, 180, 173, 170, 170, 168, 163, 163, 158, 156]}],\n",
       "                        {\"template\": {\"data\": {\"bar\": [{\"error_x\": {\"color\": \"#2a3f5f\"}, \"error_y\": {\"color\": \"#2a3f5f\"}, \"marker\": {\"line\": {\"color\": \"#E5ECF6\", \"width\": 0.5}}, \"type\": \"bar\"}], \"barpolar\": [{\"marker\": {\"line\": {\"color\": \"#E5ECF6\", \"width\": 0.5}}, \"type\": \"barpolar\"}], \"carpet\": [{\"aaxis\": {\"endlinecolor\": \"#2a3f5f\", \"gridcolor\": \"white\", \"linecolor\": \"white\", \"minorgridcolor\": \"white\", \"startlinecolor\": \"#2a3f5f\"}, \"baxis\": {\"endlinecolor\": \"#2a3f5f\", \"gridcolor\": \"white\", \"linecolor\": \"white\", \"minorgridcolor\": \"white\", \"startlinecolor\": \"#2a3f5f\"}, \"type\": \"carpet\"}], \"choropleth\": [{\"colorbar\": {\"outlinewidth\": 0, \"ticks\": \"\"}, \"type\": \"choropleth\"}], \"contour\": [{\"colorbar\": {\"outlinewidth\": 0, \"ticks\": \"\"}, \"colorscale\": [[0.0, \"#0d0887\"], [0.1111111111111111, \"#46039f\"], [0.2222222222222222, \"#7201a8\"], [0.3333333333333333, \"#9c179e\"], [0.4444444444444444, \"#bd3786\"], [0.5555555555555556, \"#d8576b\"], [0.6666666666666666, \"#ed7953\"], [0.7777777777777778, \"#fb9f3a\"], [0.8888888888888888, \"#fdca26\"], [1.0, \"#f0f921\"]], \"type\": \"contour\"}], \"contourcarpet\": [{\"colorbar\": {\"outlinewidth\": 0, \"ticks\": \"\"}, \"type\": \"contourcarpet\"}], \"heatmap\": [{\"colorbar\": {\"outlinewidth\": 0, \"ticks\": \"\"}, \"colorscale\": [[0.0, \"#0d0887\"], [0.1111111111111111, \"#46039f\"], [0.2222222222222222, \"#7201a8\"], [0.3333333333333333, \"#9c179e\"], [0.4444444444444444, \"#bd3786\"], [0.5555555555555556, \"#d8576b\"], [0.6666666666666666, \"#ed7953\"], [0.7777777777777778, \"#fb9f3a\"], [0.8888888888888888, \"#fdca26\"], [1.0, \"#f0f921\"]], \"type\": \"heatmap\"}], \"heatmapgl\": [{\"colorbar\": {\"outlinewidth\": 0, \"ticks\": \"\"}, \"colorscale\": [[0.0, \"#0d0887\"], [0.1111111111111111, \"#46039f\"], [0.2222222222222222, \"#7201a8\"], [0.3333333333333333, \"#9c179e\"], [0.4444444444444444, \"#bd3786\"], [0.5555555555555556, \"#d8576b\"], [0.6666666666666666, \"#ed7953\"], [0.7777777777777778, \"#fb9f3a\"], [0.8888888888888888, \"#fdca26\"], [1.0, \"#f0f921\"]], \"type\": \"heatmapgl\"}], \"histogram\": [{\"marker\": {\"colorbar\": {\"outlinewidth\": 0, \"ticks\": \"\"}}, \"type\": \"histogram\"}], \"histogram2d\": [{\"colorbar\": {\"outlinewidth\": 0, \"ticks\": \"\"}, \"colorscale\": [[0.0, \"#0d0887\"], [0.1111111111111111, \"#46039f\"], [0.2222222222222222, \"#7201a8\"], [0.3333333333333333, \"#9c179e\"], [0.4444444444444444, \"#bd3786\"], [0.5555555555555556, \"#d8576b\"], [0.6666666666666666, \"#ed7953\"], [0.7777777777777778, \"#fb9f3a\"], [0.8888888888888888, \"#fdca26\"], [1.0, \"#f0f921\"]], \"type\": \"histogram2d\"}], \"histogram2dcontour\": [{\"colorbar\": {\"outlinewidth\": 0, \"ticks\": \"\"}, \"colorscale\": [[0.0, \"#0d0887\"], [0.1111111111111111, \"#46039f\"], [0.2222222222222222, \"#7201a8\"], [0.3333333333333333, \"#9c179e\"], [0.4444444444444444, \"#bd3786\"], [0.5555555555555556, \"#d8576b\"], [0.6666666666666666, \"#ed7953\"], [0.7777777777777778, \"#fb9f3a\"], [0.8888888888888888, \"#fdca26\"], [1.0, \"#f0f921\"]], \"type\": \"histogram2dcontour\"}], \"mesh3d\": [{\"colorbar\": {\"outlinewidth\": 0, \"ticks\": \"\"}, \"type\": \"mesh3d\"}], \"parcoords\": [{\"line\": {\"colorbar\": {\"outlinewidth\": 0, \"ticks\": \"\"}}, \"type\": \"parcoords\"}], \"pie\": [{\"automargin\": true, \"type\": \"pie\"}], \"scatter\": [{\"marker\": {\"colorbar\": {\"outlinewidth\": 0, \"ticks\": \"\"}}, \"type\": \"scatter\"}], \"scatter3d\": [{\"line\": {\"colorbar\": {\"outlinewidth\": 0, \"ticks\": \"\"}}, \"marker\": {\"colorbar\": {\"outlinewidth\": 0, \"ticks\": \"\"}}, \"type\": \"scatter3d\"}], \"scattercarpet\": [{\"marker\": {\"colorbar\": {\"outlinewidth\": 0, \"ticks\": \"\"}}, \"type\": \"scattercarpet\"}], \"scattergeo\": [{\"marker\": {\"colorbar\": {\"outlinewidth\": 0, \"ticks\": \"\"}}, \"type\": \"scattergeo\"}], \"scattergl\": [{\"marker\": {\"colorbar\": {\"outlinewidth\": 0, \"ticks\": \"\"}}, \"type\": \"scattergl\"}], \"scattermapbox\": [{\"marker\": {\"colorbar\": {\"outlinewidth\": 0, \"ticks\": \"\"}}, \"type\": \"scattermapbox\"}], \"scatterpolar\": [{\"marker\": {\"colorbar\": {\"outlinewidth\": 0, \"ticks\": \"\"}}, \"type\": \"scatterpolar\"}], \"scatterpolargl\": [{\"marker\": {\"colorbar\": {\"outlinewidth\": 0, \"ticks\": \"\"}}, \"type\": \"scatterpolargl\"}], \"scatterternary\": [{\"marker\": {\"colorbar\": {\"outlinewidth\": 0, \"ticks\": \"\"}}, \"type\": \"scatterternary\"}], \"surface\": [{\"colorbar\": {\"outlinewidth\": 0, \"ticks\": \"\"}, \"colorscale\": [[0.0, \"#0d0887\"], [0.1111111111111111, \"#46039f\"], [0.2222222222222222, \"#7201a8\"], [0.3333333333333333, \"#9c179e\"], [0.4444444444444444, \"#bd3786\"], [0.5555555555555556, \"#d8576b\"], [0.6666666666666666, \"#ed7953\"], [0.7777777777777778, \"#fb9f3a\"], [0.8888888888888888, \"#fdca26\"], [1.0, \"#f0f921\"]], \"type\": \"surface\"}], \"table\": [{\"cells\": {\"fill\": {\"color\": \"#EBF0F8\"}, \"line\": {\"color\": \"white\"}}, \"header\": {\"fill\": {\"color\": \"#C8D4E3\"}, \"line\": {\"color\": \"white\"}}, \"type\": \"table\"}]}, \"layout\": {\"annotationdefaults\": {\"arrowcolor\": \"#2a3f5f\", \"arrowhead\": 0, \"arrowwidth\": 1}, \"coloraxis\": {\"colorbar\": {\"outlinewidth\": 0, \"ticks\": \"\"}}, \"colorscale\": {\"diverging\": [[0, \"#8e0152\"], [0.1, \"#c51b7d\"], [0.2, \"#de77ae\"], [0.3, \"#f1b6da\"], [0.4, \"#fde0ef\"], [0.5, \"#f7f7f7\"], [0.6, \"#e6f5d0\"], [0.7, \"#b8e186\"], [0.8, \"#7fbc41\"], [0.9, \"#4d9221\"], [1, \"#276419\"]], \"sequential\": [[0.0, \"#0d0887\"], [0.1111111111111111, \"#46039f\"], [0.2222222222222222, \"#7201a8\"], [0.3333333333333333, \"#9c179e\"], [0.4444444444444444, \"#bd3786\"], [0.5555555555555556, \"#d8576b\"], [0.6666666666666666, \"#ed7953\"], [0.7777777777777778, \"#fb9f3a\"], [0.8888888888888888, \"#fdca26\"], [1.0, \"#f0f921\"]], \"sequentialminus\": [[0.0, \"#0d0887\"], [0.1111111111111111, \"#46039f\"], [0.2222222222222222, \"#7201a8\"], [0.3333333333333333, \"#9c179e\"], [0.4444444444444444, \"#bd3786\"], [0.5555555555555556, \"#d8576b\"], [0.6666666666666666, \"#ed7953\"], [0.7777777777777778, \"#fb9f3a\"], [0.8888888888888888, \"#fdca26\"], [1.0, \"#f0f921\"]]}, \"colorway\": [\"#636efa\", \"#EF553B\", \"#00cc96\", \"#ab63fa\", \"#FFA15A\", \"#19d3f3\", \"#FF6692\", \"#B6E880\", \"#FF97FF\", \"#FECB52\"], \"font\": {\"color\": \"#2a3f5f\"}, \"geo\": {\"bgcolor\": \"white\", \"lakecolor\": \"white\", \"landcolor\": \"#E5ECF6\", \"showlakes\": true, \"showland\": true, \"subunitcolor\": \"white\"}, \"hoverlabel\": {\"align\": \"left\"}, \"hovermode\": \"closest\", \"mapbox\": {\"style\": \"light\"}, \"paper_bgcolor\": \"white\", \"plot_bgcolor\": \"#E5ECF6\", \"polar\": {\"angularaxis\": {\"gridcolor\": \"white\", \"linecolor\": \"white\", \"ticks\": \"\"}, \"bgcolor\": \"#E5ECF6\", \"radialaxis\": {\"gridcolor\": \"white\", \"linecolor\": \"white\", \"ticks\": \"\"}}, \"scene\": {\"xaxis\": {\"backgroundcolor\": \"#E5ECF6\", \"gridcolor\": \"white\", \"gridwidth\": 2, \"linecolor\": \"white\", \"showbackground\": true, \"ticks\": \"\", \"zerolinecolor\": \"white\"}, \"yaxis\": {\"backgroundcolor\": \"#E5ECF6\", \"gridcolor\": \"white\", \"gridwidth\": 2, \"linecolor\": \"white\", \"showbackground\": true, \"ticks\": \"\", \"zerolinecolor\": \"white\"}, \"zaxis\": {\"backgroundcolor\": \"#E5ECF6\", \"gridcolor\": \"white\", \"gridwidth\": 2, \"linecolor\": \"white\", \"showbackground\": true, \"ticks\": \"\", \"zerolinecolor\": \"white\"}}, \"shapedefaults\": {\"line\": {\"color\": \"#2a3f5f\"}}, \"ternary\": {\"aaxis\": {\"gridcolor\": \"white\", \"linecolor\": \"white\", \"ticks\": \"\"}, \"baxis\": {\"gridcolor\": \"white\", \"linecolor\": \"white\", \"ticks\": \"\"}, \"bgcolor\": \"#E5ECF6\", \"caxis\": {\"gridcolor\": \"white\", \"linecolor\": \"white\", \"ticks\": \"\"}}, \"title\": {\"x\": 0.05}, \"xaxis\": {\"automargin\": true, \"gridcolor\": \"white\", \"linecolor\": \"white\", \"ticks\": \"\", \"title\": {\"standoff\": 15}, \"zerolinecolor\": \"white\", \"zerolinewidth\": 2}, \"yaxis\": {\"automargin\": true, \"gridcolor\": \"white\", \"linecolor\": \"white\", \"ticks\": \"\", \"title\": {\"standoff\": 15}, \"zerolinecolor\": \"white\", \"zerolinewidth\": 2}}}},\n",
       "                        {\"responsive\": true}\n",
       "                    ).then(function(){\n",
       "                            \n",
       "var gd = document.getElementById('3a322f99-27a8-4619-baac-153eb47116f8');\n",
       "var x = new MutationObserver(function (mutations, observer) {{\n",
       "        var display = window.getComputedStyle(gd).display;\n",
       "        if (!display || display === 'none') {{\n",
       "            console.log([gd, 'removed!']);\n",
       "            Plotly.purge(gd);\n",
       "            observer.disconnect();\n",
       "        }}\n",
       "}});\n",
       "\n",
       "// Listen for the removal of the full notebook cells\n",
       "var notebookContainer = gd.closest('#notebook-container');\n",
       "if (notebookContainer) {{\n",
       "    x.observe(notebookContainer, {childList: true});\n",
       "}}\n",
       "\n",
       "// Listen for the clearing of the current output cell\n",
       "var outputEl = gd.closest('.output');\n",
       "if (outputEl) {{\n",
       "    x.observe(outputEl, {childList: true});\n",
       "}}\n",
       "\n",
       "                        })\n",
       "                };\n",
       "                \n",
       "            </script>\n",
       "        </div>\n",
       "</body>\n",
       "</html>"
      ]
     },
     "metadata": {},
     "output_type": "display_data"
    }
   ],
   "source": [
    "freq_ngrams(df_m4['preprocessed_tweet'], n_gram=1, range=50)"
   ]
  },
  {
   "cell_type": "code",
   "execution_count": null,
   "metadata": {
    "colab": {
     "base_uri": "https://localhost:8080/",
     "height": 574,
     "referenced_widgets": [
      "bf938ad17c454ee791c8de2f4cd1a715",
      "69939470e35942df81ab124556f0178c",
      "f660afbd903a4d08bd1b01ed98088e36",
      "4f33a90b096046909e915882261fc989",
      "a918375e18ac47a9902986cdd1bda5c6",
      "1c3c9bb025de4181a2fbf730af9e0bbc",
      "1aeb21b6a8a1400d8484f9ab9475b739",
      "4b520d13794d4dafaf6e3c75241505c6",
      "006cd7d839064a65a01fbfdb6833560f",
      "14a17a8395994ee69ee20d232b467537",
      "21eed3190f184f1194d9a3ae21a51693"
     ]
    },
    "id": "N6NPr9EBW0oI",
    "outputId": "2569e561-9ac5-48d6-cfbd-d3f13f5bc144"
   },
   "outputs": [
    {
     "data": {
      "application/vnd.jupyter.widget-view+json": {
       "model_id": "bf938ad17c454ee791c8de2f4cd1a715",
       "version_major": 2,
       "version_minor": 0
      },
      "text/plain": [
       "  0%|          | 0/5511 [00:00<?, ?it/s]"
      ]
     },
     "metadata": {},
     "output_type": "display_data"
    },
    {
     "data": {
      "text/html": [
       "<html>\n",
       "<head><meta charset=\"utf-8\" /></head>\n",
       "<body>\n",
       "    <div>\n",
       "            <script src=\"https://cdnjs.cloudflare.com/ajax/libs/mathjax/2.7.5/MathJax.js?config=TeX-AMS-MML_SVG\"></script><script type=\"text/javascript\">if (window.MathJax) {MathJax.Hub.Config({SVG: {font: \"STIX-Web\"}});}</script>\n",
       "                <script type=\"text/javascript\">window.PlotlyConfig = {MathJaxConfig: 'local'};</script>\n",
       "        <script src=\"https://cdn.plot.ly/plotly-latest.min.js\"></script>    \n",
       "            <div id=\"0a3ddb81-2d7d-4c3a-88a8-065353e8db86\" class=\"plotly-graph-div\" style=\"height:525px; width:100%;\"></div>\n",
       "            <script type=\"text/javascript\">\n",
       "                \n",
       "                    window.PLOTLYENV=window.PLOTLYENV || {};\n",
       "                    \n",
       "                if (document.getElementById(\"0a3ddb81-2d7d-4c3a-88a8-065353e8db86\")) {\n",
       "                    Plotly.newPlot(\n",
       "                        '0a3ddb81-2d7d-4c3a-88a8-065353e8db86',\n",
       "                        [{\"type\": \"bar\", \"x\": [\"covid india\", \"post covid\", \"live updat\", \"test posit\", \"covid case\", \"new case\", \"activ case\", \"posit case\", \"case report\", \"pm modi\", \"case death\", \"repatri flight\", \"flight schedul\", \"total number\", \"singl day\", \"second wave\", \"schedul updat\", \"health minist\", \"case recoveri\", \"death toll\", \"year old\", \"state wise\", \"india report\", \"coronaviru india\", \"coronaviru case\", \"case india\", \"wise talli\", \"oxygen suppli\", \"death india\", \"covid vaccin\", \"here state\", \"covid patient\", \"essenti servic\", \"wear mask\", \"needi peopl\", \"highli impact\", \"impact lockdown\", \"number case\", \"stay safe\", \"distribut food\", \"peopl highli\", \"talli activ\", \"india updat\", \"provid essenti\", \"health ministri\", \"food needi\", \"high court\", \"amp death\", \"volunt provid\", \"servic distribut\"], \"y\": [546, 191, 166, 156, 153, 152, 117, 106, 78, 76, 72, 69, 68, 67, 65, 61, 61, 58, 58, 57, 56, 56, 56, 56, 54, 52, 52, 51, 51, 49, 49, 48, 48, 47, 47, 47, 47, 46, 45, 45, 45, 44, 44, 44, 43, 43, 42, 42, 42, 42]}],\n",
       "                        {\"template\": {\"data\": {\"bar\": [{\"error_x\": {\"color\": \"#2a3f5f\"}, \"error_y\": {\"color\": \"#2a3f5f\"}, \"marker\": {\"line\": {\"color\": \"#E5ECF6\", \"width\": 0.5}}, \"type\": \"bar\"}], \"barpolar\": [{\"marker\": {\"line\": {\"color\": \"#E5ECF6\", \"width\": 0.5}}, \"type\": \"barpolar\"}], \"carpet\": [{\"aaxis\": {\"endlinecolor\": \"#2a3f5f\", \"gridcolor\": \"white\", \"linecolor\": \"white\", \"minorgridcolor\": \"white\", \"startlinecolor\": \"#2a3f5f\"}, \"baxis\": {\"endlinecolor\": \"#2a3f5f\", \"gridcolor\": \"white\", \"linecolor\": \"white\", \"minorgridcolor\": \"white\", \"startlinecolor\": \"#2a3f5f\"}, \"type\": \"carpet\"}], \"choropleth\": [{\"colorbar\": {\"outlinewidth\": 0, \"ticks\": \"\"}, \"type\": \"choropleth\"}], \"contour\": [{\"colorbar\": {\"outlinewidth\": 0, \"ticks\": \"\"}, \"colorscale\": [[0.0, \"#0d0887\"], [0.1111111111111111, \"#46039f\"], [0.2222222222222222, \"#7201a8\"], [0.3333333333333333, \"#9c179e\"], [0.4444444444444444, \"#bd3786\"], [0.5555555555555556, \"#d8576b\"], [0.6666666666666666, \"#ed7953\"], [0.7777777777777778, \"#fb9f3a\"], [0.8888888888888888, \"#fdca26\"], [1.0, \"#f0f921\"]], \"type\": \"contour\"}], \"contourcarpet\": [{\"colorbar\": {\"outlinewidth\": 0, \"ticks\": \"\"}, \"type\": \"contourcarpet\"}], \"heatmap\": [{\"colorbar\": {\"outlinewidth\": 0, \"ticks\": \"\"}, \"colorscale\": [[0.0, \"#0d0887\"], [0.1111111111111111, \"#46039f\"], [0.2222222222222222, \"#7201a8\"], [0.3333333333333333, \"#9c179e\"], [0.4444444444444444, \"#bd3786\"], [0.5555555555555556, \"#d8576b\"], [0.6666666666666666, \"#ed7953\"], [0.7777777777777778, \"#fb9f3a\"], [0.8888888888888888, \"#fdca26\"], [1.0, \"#f0f921\"]], \"type\": \"heatmap\"}], \"heatmapgl\": [{\"colorbar\": {\"outlinewidth\": 0, \"ticks\": \"\"}, \"colorscale\": [[0.0, \"#0d0887\"], [0.1111111111111111, \"#46039f\"], [0.2222222222222222, \"#7201a8\"], [0.3333333333333333, \"#9c179e\"], [0.4444444444444444, \"#bd3786\"], [0.5555555555555556, \"#d8576b\"], [0.6666666666666666, \"#ed7953\"], [0.7777777777777778, \"#fb9f3a\"], [0.8888888888888888, \"#fdca26\"], [1.0, \"#f0f921\"]], \"type\": \"heatmapgl\"}], \"histogram\": [{\"marker\": {\"colorbar\": {\"outlinewidth\": 0, \"ticks\": \"\"}}, \"type\": \"histogram\"}], \"histogram2d\": [{\"colorbar\": {\"outlinewidth\": 0, \"ticks\": \"\"}, \"colorscale\": [[0.0, \"#0d0887\"], [0.1111111111111111, \"#46039f\"], [0.2222222222222222, \"#7201a8\"], [0.3333333333333333, \"#9c179e\"], [0.4444444444444444, \"#bd3786\"], [0.5555555555555556, \"#d8576b\"], [0.6666666666666666, \"#ed7953\"], [0.7777777777777778, \"#fb9f3a\"], [0.8888888888888888, \"#fdca26\"], [1.0, \"#f0f921\"]], \"type\": \"histogram2d\"}], \"histogram2dcontour\": [{\"colorbar\": {\"outlinewidth\": 0, \"ticks\": \"\"}, \"colorscale\": [[0.0, \"#0d0887\"], [0.1111111111111111, \"#46039f\"], [0.2222222222222222, \"#7201a8\"], [0.3333333333333333, \"#9c179e\"], [0.4444444444444444, \"#bd3786\"], [0.5555555555555556, \"#d8576b\"], [0.6666666666666666, \"#ed7953\"], [0.7777777777777778, \"#fb9f3a\"], [0.8888888888888888, \"#fdca26\"], [1.0, \"#f0f921\"]], \"type\": \"histogram2dcontour\"}], \"mesh3d\": [{\"colorbar\": {\"outlinewidth\": 0, \"ticks\": \"\"}, \"type\": \"mesh3d\"}], \"parcoords\": [{\"line\": {\"colorbar\": {\"outlinewidth\": 0, \"ticks\": \"\"}}, \"type\": \"parcoords\"}], \"pie\": [{\"automargin\": true, \"type\": \"pie\"}], \"scatter\": [{\"marker\": {\"colorbar\": {\"outlinewidth\": 0, \"ticks\": \"\"}}, \"type\": \"scatter\"}], \"scatter3d\": [{\"line\": {\"colorbar\": {\"outlinewidth\": 0, \"ticks\": \"\"}}, \"marker\": {\"colorbar\": {\"outlinewidth\": 0, \"ticks\": \"\"}}, \"type\": \"scatter3d\"}], \"scattercarpet\": [{\"marker\": {\"colorbar\": {\"outlinewidth\": 0, \"ticks\": \"\"}}, \"type\": \"scattercarpet\"}], \"scattergeo\": [{\"marker\": {\"colorbar\": {\"outlinewidth\": 0, \"ticks\": \"\"}}, \"type\": \"scattergeo\"}], \"scattergl\": [{\"marker\": {\"colorbar\": {\"outlinewidth\": 0, \"ticks\": \"\"}}, \"type\": \"scattergl\"}], \"scattermapbox\": [{\"marker\": {\"colorbar\": {\"outlinewidth\": 0, \"ticks\": \"\"}}, \"type\": \"scattermapbox\"}], \"scatterpolar\": [{\"marker\": {\"colorbar\": {\"outlinewidth\": 0, \"ticks\": \"\"}}, \"type\": \"scatterpolar\"}], \"scatterpolargl\": [{\"marker\": {\"colorbar\": {\"outlinewidth\": 0, \"ticks\": \"\"}}, \"type\": \"scatterpolargl\"}], \"scatterternary\": [{\"marker\": {\"colorbar\": {\"outlinewidth\": 0, \"ticks\": \"\"}}, \"type\": \"scatterternary\"}], \"surface\": [{\"colorbar\": {\"outlinewidth\": 0, \"ticks\": \"\"}, \"colorscale\": [[0.0, \"#0d0887\"], [0.1111111111111111, \"#46039f\"], [0.2222222222222222, \"#7201a8\"], [0.3333333333333333, \"#9c179e\"], [0.4444444444444444, \"#bd3786\"], [0.5555555555555556, \"#d8576b\"], [0.6666666666666666, \"#ed7953\"], [0.7777777777777778, \"#fb9f3a\"], [0.8888888888888888, \"#fdca26\"], [1.0, \"#f0f921\"]], \"type\": \"surface\"}], \"table\": [{\"cells\": {\"fill\": {\"color\": \"#EBF0F8\"}, \"line\": {\"color\": \"white\"}}, \"header\": {\"fill\": {\"color\": \"#C8D4E3\"}, \"line\": {\"color\": \"white\"}}, \"type\": \"table\"}]}, \"layout\": {\"annotationdefaults\": {\"arrowcolor\": \"#2a3f5f\", \"arrowhead\": 0, \"arrowwidth\": 1}, \"coloraxis\": {\"colorbar\": {\"outlinewidth\": 0, \"ticks\": \"\"}}, \"colorscale\": {\"diverging\": [[0, \"#8e0152\"], [0.1, \"#c51b7d\"], [0.2, \"#de77ae\"], [0.3, \"#f1b6da\"], [0.4, \"#fde0ef\"], [0.5, \"#f7f7f7\"], [0.6, \"#e6f5d0\"], [0.7, \"#b8e186\"], [0.8, \"#7fbc41\"], [0.9, \"#4d9221\"], [1, \"#276419\"]], \"sequential\": [[0.0, \"#0d0887\"], [0.1111111111111111, \"#46039f\"], [0.2222222222222222, \"#7201a8\"], [0.3333333333333333, \"#9c179e\"], [0.4444444444444444, \"#bd3786\"], [0.5555555555555556, \"#d8576b\"], [0.6666666666666666, \"#ed7953\"], [0.7777777777777778, \"#fb9f3a\"], [0.8888888888888888, \"#fdca26\"], [1.0, \"#f0f921\"]], \"sequentialminus\": [[0.0, \"#0d0887\"], [0.1111111111111111, \"#46039f\"], [0.2222222222222222, \"#7201a8\"], [0.3333333333333333, \"#9c179e\"], [0.4444444444444444, \"#bd3786\"], [0.5555555555555556, \"#d8576b\"], [0.6666666666666666, \"#ed7953\"], [0.7777777777777778, \"#fb9f3a\"], [0.8888888888888888, \"#fdca26\"], [1.0, \"#f0f921\"]]}, \"colorway\": [\"#636efa\", \"#EF553B\", \"#00cc96\", \"#ab63fa\", \"#FFA15A\", \"#19d3f3\", \"#FF6692\", \"#B6E880\", \"#FF97FF\", \"#FECB52\"], \"font\": {\"color\": \"#2a3f5f\"}, \"geo\": {\"bgcolor\": \"white\", \"lakecolor\": \"white\", \"landcolor\": \"#E5ECF6\", \"showlakes\": true, \"showland\": true, \"subunitcolor\": \"white\"}, \"hoverlabel\": {\"align\": \"left\"}, \"hovermode\": \"closest\", \"mapbox\": {\"style\": \"light\"}, \"paper_bgcolor\": \"white\", \"plot_bgcolor\": \"#E5ECF6\", \"polar\": {\"angularaxis\": {\"gridcolor\": \"white\", \"linecolor\": \"white\", \"ticks\": \"\"}, \"bgcolor\": \"#E5ECF6\", \"radialaxis\": {\"gridcolor\": \"white\", \"linecolor\": \"white\", \"ticks\": \"\"}}, \"scene\": {\"xaxis\": {\"backgroundcolor\": \"#E5ECF6\", \"gridcolor\": \"white\", \"gridwidth\": 2, \"linecolor\": \"white\", \"showbackground\": true, \"ticks\": \"\", \"zerolinecolor\": \"white\"}, \"yaxis\": {\"backgroundcolor\": \"#E5ECF6\", \"gridcolor\": \"white\", \"gridwidth\": 2, \"linecolor\": \"white\", \"showbackground\": true, \"ticks\": \"\", \"zerolinecolor\": \"white\"}, \"zaxis\": {\"backgroundcolor\": \"#E5ECF6\", \"gridcolor\": \"white\", \"gridwidth\": 2, \"linecolor\": \"white\", \"showbackground\": true, \"ticks\": \"\", \"zerolinecolor\": \"white\"}}, \"shapedefaults\": {\"line\": {\"color\": \"#2a3f5f\"}}, \"ternary\": {\"aaxis\": {\"gridcolor\": \"white\", \"linecolor\": \"white\", \"ticks\": \"\"}, \"baxis\": {\"gridcolor\": \"white\", \"linecolor\": \"white\", \"ticks\": \"\"}, \"bgcolor\": \"#E5ECF6\", \"caxis\": {\"gridcolor\": \"white\", \"linecolor\": \"white\", \"ticks\": \"\"}}, \"title\": {\"x\": 0.05}, \"xaxis\": {\"automargin\": true, \"gridcolor\": \"white\", \"linecolor\": \"white\", \"ticks\": \"\", \"title\": {\"standoff\": 15}, \"zerolinecolor\": \"white\", \"zerolinewidth\": 2}, \"yaxis\": {\"automargin\": true, \"gridcolor\": \"white\", \"linecolor\": \"white\", \"ticks\": \"\", \"title\": {\"standoff\": 15}, \"zerolinecolor\": \"white\", \"zerolinewidth\": 2}}}},\n",
       "                        {\"responsive\": true}\n",
       "                    ).then(function(){\n",
       "                            \n",
       "var gd = document.getElementById('0a3ddb81-2d7d-4c3a-88a8-065353e8db86');\n",
       "var x = new MutationObserver(function (mutations, observer) {{\n",
       "        var display = window.getComputedStyle(gd).display;\n",
       "        if (!display || display === 'none') {{\n",
       "            console.log([gd, 'removed!']);\n",
       "            Plotly.purge(gd);\n",
       "            observer.disconnect();\n",
       "        }}\n",
       "}});\n",
       "\n",
       "// Listen for the removal of the full notebook cells\n",
       "var notebookContainer = gd.closest('#notebook-container');\n",
       "if (notebookContainer) {{\n",
       "    x.observe(notebookContainer, {childList: true});\n",
       "}}\n",
       "\n",
       "// Listen for the clearing of the current output cell\n",
       "var outputEl = gd.closest('.output');\n",
       "if (outputEl) {{\n",
       "    x.observe(outputEl, {childList: true});\n",
       "}}\n",
       "\n",
       "                        })\n",
       "                };\n",
       "                \n",
       "            </script>\n",
       "        </div>\n",
       "</body>\n",
       "</html>"
      ]
     },
     "metadata": {},
     "output_type": "display_data"
    }
   ],
   "source": [
    "freq_ngrams(df_m4['preprocessed_tweet'], n_gram=2, range=50)"
   ]
  },
  {
   "cell_type": "code",
   "execution_count": null,
   "metadata": {
    "colab": {
     "base_uri": "https://localhost:8080/",
     "height": 574,
     "referenced_widgets": [
      "5c656e3775f44e7b8a1729326288e5d1",
      "f6f38c31ec9447c8bcaea2ac110ac356",
      "5933ea9424874551b89f3f5151d81177",
      "d50e5b7433754589a1019b55bb62d31e",
      "7a9d026c5d7e48ff88fe2b05b5a65d5e",
      "dea845f190644c53bccc2e2045ad1440",
      "7446c832c66c4c37938abf800e6435d9",
      "f0b9fc19af814fffa90693e631b18508",
      "5e20db0a4b2d47b8aa0987d6afa2344b",
      "fbf398a4a9dd4e8287ec06b59b463541",
      "aec9b9091bc14bf5ac365eb22b95b176"
     ]
    },
    "id": "fbzXuuwaW5Qa",
    "outputId": "4b216efc-513b-408a-fcf6-55877da9cedf"
   },
   "outputs": [
    {
     "data": {
      "application/vnd.jupyter.widget-view+json": {
       "model_id": "5c656e3775f44e7b8a1729326288e5d1",
       "version_major": 2,
       "version_minor": 0
      },
      "text/plain": [
       "  0%|          | 0/5511 [00:00<?, ?it/s]"
      ]
     },
     "metadata": {},
     "output_type": "display_data"
    },
    {
     "data": {
      "text/html": [
       "<html>\n",
       "<head><meta charset=\"utf-8\" /></head>\n",
       "<body>\n",
       "    <div>\n",
       "            <script src=\"https://cdnjs.cloudflare.com/ajax/libs/mathjax/2.7.5/MathJax.js?config=TeX-AMS-MML_SVG\"></script><script type=\"text/javascript\">if (window.MathJax) {MathJax.Hub.Config({SVG: {font: \"STIX-Web\"}});}</script>\n",
       "                <script type=\"text/javascript\">window.PlotlyConfig = {MathJaxConfig: 'local'};</script>\n",
       "        <script src=\"https://cdn.plot.ly/plotly-latest.min.js\"></script>    \n",
       "            <div id=\"239162ae-ee5e-4bd4-8096-f2e7fec7a4b2\" class=\"plotly-graph-div\" style=\"height:525px; width:100%;\"></div>\n",
       "            <script type=\"text/javascript\">\n",
       "                \n",
       "                    window.PLOTLYENV=window.PLOTLYENV || {};\n",
       "                    \n",
       "                if (document.getElementById(\"239162ae-ee5e-4bd4-8096-f2e7fec7a4b2\")) {\n",
       "                    Plotly.newPlot(\n",
       "                        '239162ae-ee5e-4bd4-8096-f2e7fec7a4b2',\n",
       "                        [{\"type\": \"bar\", \"x\": [\"post covid india\", \"repatri flight schedul\", \"flight schedul updat\", \"state wise talli\", \"activ case recoveri\", \"here state wise\", \"highli impact lockdown\", \"needi peopl highli\", \"peopl highli impact\", \"wise talli activ\", \"talli activ case\", \"provid essenti servic\", \"distribut food needi\", \"volunt provid essenti\", \"essenti servic distribut\", \"servic distribut food\", \"food needi peopl\", \"vision post covid\", \"india live updat\", \"earthquak pointer vision\", \"pointer vision post\", \"kutch earthquak pointer\", \"work kutch earthquak\", \"highest singl day\", \"new covid case\", \"amp death india\", \"covid india seva\", \"case recoveri amp\", \"recoveri amp death\", \"coronaviru india live\", \"singl day spike\", \"report new case\", \"total number case\", \"case recoveri death\", \"launch covid india\", \"test posit covid\", \"posit case report\", \"here need know\", \"test posit coronaviru\", \"recoveri death india\", \"covid india updat\", \"number posit case\", \"india seva interact\", \"seva interact platform\", \"year old man\", \"new case report\", \"new case hour\", \"modi work kutch\", \"new case death\", \"union health ministri\"], \"y\": [178, 68, 61, 52, 52, 49, 47, 45, 45, 44, 43, 43, 43, 42, 42, 42, 42, 36, 35, 35, 35, 34, 33, 30, 30, 29, 29, 28, 28, 27, 24, 23, 23, 22, 22, 21, 19, 18, 18, 18, 18, 18, 18, 18, 17, 17, 17, 17, 16, 16]}],\n",
       "                        {\"template\": {\"data\": {\"bar\": [{\"error_x\": {\"color\": \"#2a3f5f\"}, \"error_y\": {\"color\": \"#2a3f5f\"}, \"marker\": {\"line\": {\"color\": \"#E5ECF6\", \"width\": 0.5}}, \"type\": \"bar\"}], \"barpolar\": [{\"marker\": {\"line\": {\"color\": \"#E5ECF6\", \"width\": 0.5}}, \"type\": \"barpolar\"}], \"carpet\": [{\"aaxis\": {\"endlinecolor\": \"#2a3f5f\", \"gridcolor\": \"white\", \"linecolor\": \"white\", \"minorgridcolor\": \"white\", \"startlinecolor\": \"#2a3f5f\"}, \"baxis\": {\"endlinecolor\": \"#2a3f5f\", \"gridcolor\": \"white\", \"linecolor\": \"white\", \"minorgridcolor\": \"white\", \"startlinecolor\": \"#2a3f5f\"}, \"type\": \"carpet\"}], \"choropleth\": [{\"colorbar\": {\"outlinewidth\": 0, \"ticks\": \"\"}, \"type\": \"choropleth\"}], \"contour\": [{\"colorbar\": {\"outlinewidth\": 0, \"ticks\": \"\"}, \"colorscale\": [[0.0, \"#0d0887\"], [0.1111111111111111, \"#46039f\"], [0.2222222222222222, \"#7201a8\"], [0.3333333333333333, \"#9c179e\"], [0.4444444444444444, \"#bd3786\"], [0.5555555555555556, \"#d8576b\"], [0.6666666666666666, \"#ed7953\"], [0.7777777777777778, \"#fb9f3a\"], [0.8888888888888888, \"#fdca26\"], [1.0, \"#f0f921\"]], \"type\": \"contour\"}], \"contourcarpet\": [{\"colorbar\": {\"outlinewidth\": 0, \"ticks\": \"\"}, \"type\": \"contourcarpet\"}], \"heatmap\": [{\"colorbar\": {\"outlinewidth\": 0, \"ticks\": \"\"}, \"colorscale\": [[0.0, \"#0d0887\"], [0.1111111111111111, \"#46039f\"], [0.2222222222222222, \"#7201a8\"], [0.3333333333333333, \"#9c179e\"], [0.4444444444444444, \"#bd3786\"], [0.5555555555555556, \"#d8576b\"], [0.6666666666666666, \"#ed7953\"], [0.7777777777777778, \"#fb9f3a\"], [0.8888888888888888, \"#fdca26\"], [1.0, \"#f0f921\"]], \"type\": \"heatmap\"}], \"heatmapgl\": [{\"colorbar\": {\"outlinewidth\": 0, \"ticks\": \"\"}, \"colorscale\": [[0.0, \"#0d0887\"], [0.1111111111111111, \"#46039f\"], [0.2222222222222222, \"#7201a8\"], [0.3333333333333333, \"#9c179e\"], [0.4444444444444444, \"#bd3786\"], [0.5555555555555556, \"#d8576b\"], [0.6666666666666666, \"#ed7953\"], [0.7777777777777778, \"#fb9f3a\"], [0.8888888888888888, \"#fdca26\"], [1.0, \"#f0f921\"]], \"type\": \"heatmapgl\"}], \"histogram\": [{\"marker\": {\"colorbar\": {\"outlinewidth\": 0, \"ticks\": \"\"}}, \"type\": \"histogram\"}], \"histogram2d\": [{\"colorbar\": {\"outlinewidth\": 0, \"ticks\": \"\"}, \"colorscale\": [[0.0, \"#0d0887\"], [0.1111111111111111, \"#46039f\"], [0.2222222222222222, \"#7201a8\"], [0.3333333333333333, \"#9c179e\"], [0.4444444444444444, \"#bd3786\"], [0.5555555555555556, \"#d8576b\"], [0.6666666666666666, \"#ed7953\"], [0.7777777777777778, \"#fb9f3a\"], [0.8888888888888888, \"#fdca26\"], [1.0, \"#f0f921\"]], \"type\": \"histogram2d\"}], \"histogram2dcontour\": [{\"colorbar\": {\"outlinewidth\": 0, \"ticks\": \"\"}, \"colorscale\": [[0.0, \"#0d0887\"], [0.1111111111111111, \"#46039f\"], [0.2222222222222222, \"#7201a8\"], [0.3333333333333333, \"#9c179e\"], [0.4444444444444444, \"#bd3786\"], [0.5555555555555556, \"#d8576b\"], [0.6666666666666666, \"#ed7953\"], [0.7777777777777778, \"#fb9f3a\"], [0.8888888888888888, \"#fdca26\"], [1.0, \"#f0f921\"]], \"type\": \"histogram2dcontour\"}], \"mesh3d\": [{\"colorbar\": {\"outlinewidth\": 0, \"ticks\": \"\"}, \"type\": \"mesh3d\"}], \"parcoords\": [{\"line\": {\"colorbar\": {\"outlinewidth\": 0, \"ticks\": \"\"}}, \"type\": \"parcoords\"}], \"pie\": [{\"automargin\": true, \"type\": \"pie\"}], \"scatter\": [{\"marker\": {\"colorbar\": {\"outlinewidth\": 0, \"ticks\": \"\"}}, \"type\": \"scatter\"}], \"scatter3d\": [{\"line\": {\"colorbar\": {\"outlinewidth\": 0, \"ticks\": \"\"}}, \"marker\": {\"colorbar\": {\"outlinewidth\": 0, \"ticks\": \"\"}}, \"type\": \"scatter3d\"}], \"scattercarpet\": [{\"marker\": {\"colorbar\": {\"outlinewidth\": 0, \"ticks\": \"\"}}, \"type\": \"scattercarpet\"}], \"scattergeo\": [{\"marker\": {\"colorbar\": {\"outlinewidth\": 0, \"ticks\": \"\"}}, \"type\": \"scattergeo\"}], \"scattergl\": [{\"marker\": {\"colorbar\": {\"outlinewidth\": 0, \"ticks\": \"\"}}, \"type\": \"scattergl\"}], \"scattermapbox\": [{\"marker\": {\"colorbar\": {\"outlinewidth\": 0, \"ticks\": \"\"}}, \"type\": \"scattermapbox\"}], \"scatterpolar\": [{\"marker\": {\"colorbar\": {\"outlinewidth\": 0, \"ticks\": \"\"}}, \"type\": \"scatterpolar\"}], \"scatterpolargl\": [{\"marker\": {\"colorbar\": {\"outlinewidth\": 0, \"ticks\": \"\"}}, \"type\": \"scatterpolargl\"}], \"scatterternary\": [{\"marker\": {\"colorbar\": {\"outlinewidth\": 0, \"ticks\": \"\"}}, \"type\": \"scatterternary\"}], \"surface\": [{\"colorbar\": {\"outlinewidth\": 0, \"ticks\": \"\"}, \"colorscale\": [[0.0, \"#0d0887\"], [0.1111111111111111, \"#46039f\"], [0.2222222222222222, \"#7201a8\"], [0.3333333333333333, \"#9c179e\"], [0.4444444444444444, \"#bd3786\"], [0.5555555555555556, \"#d8576b\"], [0.6666666666666666, \"#ed7953\"], [0.7777777777777778, \"#fb9f3a\"], [0.8888888888888888, \"#fdca26\"], [1.0, \"#f0f921\"]], \"type\": \"surface\"}], \"table\": [{\"cells\": {\"fill\": {\"color\": \"#EBF0F8\"}, \"line\": {\"color\": \"white\"}}, \"header\": {\"fill\": {\"color\": \"#C8D4E3\"}, \"line\": {\"color\": \"white\"}}, \"type\": \"table\"}]}, \"layout\": {\"annotationdefaults\": {\"arrowcolor\": \"#2a3f5f\", \"arrowhead\": 0, \"arrowwidth\": 1}, \"coloraxis\": {\"colorbar\": {\"outlinewidth\": 0, \"ticks\": \"\"}}, \"colorscale\": {\"diverging\": [[0, \"#8e0152\"], [0.1, \"#c51b7d\"], [0.2, \"#de77ae\"], [0.3, \"#f1b6da\"], [0.4, \"#fde0ef\"], [0.5, \"#f7f7f7\"], [0.6, \"#e6f5d0\"], [0.7, \"#b8e186\"], [0.8, \"#7fbc41\"], [0.9, \"#4d9221\"], [1, \"#276419\"]], \"sequential\": [[0.0, \"#0d0887\"], [0.1111111111111111, \"#46039f\"], [0.2222222222222222, \"#7201a8\"], [0.3333333333333333, \"#9c179e\"], [0.4444444444444444, \"#bd3786\"], [0.5555555555555556, \"#d8576b\"], [0.6666666666666666, \"#ed7953\"], [0.7777777777777778, \"#fb9f3a\"], [0.8888888888888888, \"#fdca26\"], [1.0, \"#f0f921\"]], \"sequentialminus\": [[0.0, \"#0d0887\"], [0.1111111111111111, \"#46039f\"], [0.2222222222222222, \"#7201a8\"], [0.3333333333333333, \"#9c179e\"], [0.4444444444444444, \"#bd3786\"], [0.5555555555555556, \"#d8576b\"], [0.6666666666666666, \"#ed7953\"], [0.7777777777777778, \"#fb9f3a\"], [0.8888888888888888, \"#fdca26\"], [1.0, \"#f0f921\"]]}, \"colorway\": [\"#636efa\", \"#EF553B\", \"#00cc96\", \"#ab63fa\", \"#FFA15A\", \"#19d3f3\", \"#FF6692\", \"#B6E880\", \"#FF97FF\", \"#FECB52\"], \"font\": {\"color\": \"#2a3f5f\"}, \"geo\": {\"bgcolor\": \"white\", \"lakecolor\": \"white\", \"landcolor\": \"#E5ECF6\", \"showlakes\": true, \"showland\": true, \"subunitcolor\": \"white\"}, \"hoverlabel\": {\"align\": \"left\"}, \"hovermode\": \"closest\", \"mapbox\": {\"style\": \"light\"}, \"paper_bgcolor\": \"white\", \"plot_bgcolor\": \"#E5ECF6\", \"polar\": {\"angularaxis\": {\"gridcolor\": \"white\", \"linecolor\": \"white\", \"ticks\": \"\"}, \"bgcolor\": \"#E5ECF6\", \"radialaxis\": {\"gridcolor\": \"white\", \"linecolor\": \"white\", \"ticks\": \"\"}}, \"scene\": {\"xaxis\": {\"backgroundcolor\": \"#E5ECF6\", \"gridcolor\": \"white\", \"gridwidth\": 2, \"linecolor\": \"white\", \"showbackground\": true, \"ticks\": \"\", \"zerolinecolor\": \"white\"}, \"yaxis\": {\"backgroundcolor\": \"#E5ECF6\", \"gridcolor\": \"white\", \"gridwidth\": 2, \"linecolor\": \"white\", \"showbackground\": true, \"ticks\": \"\", \"zerolinecolor\": \"white\"}, \"zaxis\": {\"backgroundcolor\": \"#E5ECF6\", \"gridcolor\": \"white\", \"gridwidth\": 2, \"linecolor\": \"white\", \"showbackground\": true, \"ticks\": \"\", \"zerolinecolor\": \"white\"}}, \"shapedefaults\": {\"line\": {\"color\": \"#2a3f5f\"}}, \"ternary\": {\"aaxis\": {\"gridcolor\": \"white\", \"linecolor\": \"white\", \"ticks\": \"\"}, \"baxis\": {\"gridcolor\": \"white\", \"linecolor\": \"white\", \"ticks\": \"\"}, \"bgcolor\": \"#E5ECF6\", \"caxis\": {\"gridcolor\": \"white\", \"linecolor\": \"white\", \"ticks\": \"\"}}, \"title\": {\"x\": 0.05}, \"xaxis\": {\"automargin\": true, \"gridcolor\": \"white\", \"linecolor\": \"white\", \"ticks\": \"\", \"title\": {\"standoff\": 15}, \"zerolinecolor\": \"white\", \"zerolinewidth\": 2}, \"yaxis\": {\"automargin\": true, \"gridcolor\": \"white\", \"linecolor\": \"white\", \"ticks\": \"\", \"title\": {\"standoff\": 15}, \"zerolinecolor\": \"white\", \"zerolinewidth\": 2}}}},\n",
       "                        {\"responsive\": true}\n",
       "                    ).then(function(){\n",
       "                            \n",
       "var gd = document.getElementById('239162ae-ee5e-4bd4-8096-f2e7fec7a4b2');\n",
       "var x = new MutationObserver(function (mutations, observer) {{\n",
       "        var display = window.getComputedStyle(gd).display;\n",
       "        if (!display || display === 'none') {{\n",
       "            console.log([gd, 'removed!']);\n",
       "            Plotly.purge(gd);\n",
       "            observer.disconnect();\n",
       "        }}\n",
       "}});\n",
       "\n",
       "// Listen for the removal of the full notebook cells\n",
       "var notebookContainer = gd.closest('#notebook-container');\n",
       "if (notebookContainer) {{\n",
       "    x.observe(notebookContainer, {childList: true});\n",
       "}}\n",
       "\n",
       "// Listen for the clearing of the current output cell\n",
       "var outputEl = gd.closest('.output');\n",
       "if (outputEl) {{\n",
       "    x.observe(outputEl, {childList: true});\n",
       "}}\n",
       "\n",
       "                        })\n",
       "                };\n",
       "                \n",
       "            </script>\n",
       "        </div>\n",
       "</body>\n",
       "</html>"
      ]
     },
     "metadata": {},
     "output_type": "display_data"
    }
   ],
   "source": [
    "freq_ngrams(df_m4['preprocessed_tweet'], n_gram=3, range=50)"
   ]
  },
  {
   "cell_type": "markdown",
   "metadata": {
    "id": "6e359087"
   },
   "source": [
    "## 7. Splitting of Data"
   ]
  },
  {
   "cell_type": "code",
   "execution_count": null,
   "metadata": {
    "colab": {
     "base_uri": "https://localhost:8080/"
    },
    "id": "a8c99831",
    "outputId": "030a62de-5f97-43e4-fd74-eff6b00aae56"
   },
   "outputs": [
    {
     "data": {
      "text/plain": [
       "NEGATIVE    4450\n",
       "POSITIVE    1061\n",
       "Name: sentiment, dtype: int64"
      ]
     },
     "execution_count": 32,
     "metadata": {},
     "output_type": "execute_result"
    }
   ],
   "source": [
    "df_m4[\"sentiment\"].value_counts()"
   ]
  },
  {
   "cell_type": "code",
   "execution_count": null,
   "metadata": {
    "colab": {
     "base_uri": "https://localhost:8080/"
    },
    "id": "d56793a4",
    "outputId": "69e12fac-102f-4835-8639-d9482df2f77f"
   },
   "outputs": [
    {
     "data": {
      "text/plain": [
       "((4408,), (1103,), (4408,), (1103,))"
      ]
     },
     "execution_count": 33,
     "metadata": {},
     "output_type": "execute_result"
    }
   ],
   "source": [
    "## getting input and output data\n",
    "X = df_m4['preprocessed_tweet'].values\n",
    "y = df_m4[\"label\"]\n",
    "\n",
    "### splitting of data \n",
    "xtrain, xtest, ytrain, ytest  = train_test_split(X, y, stratify = y, ## keeping output %age same in both train and test data\n",
    "                                                 test_size=0.20, ## splitting into 80:20 percent\n",
    "                                                 random_state=42)\n",
    "\n",
    "xtrain.shape, xtest.shape, ytrain.shape, ytest.shape"
   ]
  },
  {
   "cell_type": "markdown",
   "metadata": {
    "id": "ac3a0d35"
   },
   "source": [
    "## 8. data encoding"
   ]
  },
  {
   "cell_type": "code",
   "execution_count": null,
   "metadata": {
    "colab": {
     "base_uri": "https://localhost:8080/"
    },
    "id": "fb172cf2",
    "outputId": "dd36d0d7-260d-4438-fe2d-81205bd4488d"
   },
   "outputs": [
    {
     "data": {
      "text/plain": [
       "((4408, 20000), (1103, 20000))"
      ]
     },
     "execution_count": 34,
     "metadata": {},
     "output_type": "execute_result"
    }
   ],
   "source": [
    "from sklearn.feature_extraction.text import TfidfVectorizer\n",
    "\n",
    "## setting up encoder\n",
    "encoder = TfidfVectorizer(ngram_range=(1,3),max_features=20000, strip_accents='unicode')\n",
    "encoder.fit(xtrain) ## fitting and transformation of training and test data\n",
    "\n",
    "x_train = encoder.transform(xtrain.astype('U'))\n",
    "x_test = encoder.transform(xtest.astype('U'))\n",
    "\n",
    "x_train.shape, x_test.shape"
   ]
  },
  {
   "cell_type": "markdown",
   "metadata": {
    "id": "8b610eee"
   },
   "source": [
    "## Functions"
   ]
  },
  {
   "cell_type": "code",
   "execution_count": null,
   "metadata": {
    "id": "d9f73d79"
   },
   "outputs": [],
   "source": [
    "def output_scores(ytrain_original, ytrain_predicted, ytest_original, ytest_predicted):\n",
    "    \n",
    "    \"\"\" This function produces fscore output along with precision, and recall.\"\"\"\n",
    "    ## output scores and overfitting\n",
    "    train_acc = accuracy_score(ytrain_original, ytrain_predicted)\n",
    "    test_acc = accuracy_score(ytest_original, ytest_predicted)\n",
    "    test_fscore = f1_score(ytest_original, ytest_predicted)\n",
    "    test_precision = precision_score(ytest_original, ytest_predicted)\n",
    "    test_recall = recall_score(ytest_original, ytest_predicted)\n",
    "    \n",
    "    return train_acc, test_acc, test_fscore, test_precision, test_recall"
   ]
  },
  {
   "cell_type": "code",
   "execution_count": null,
   "metadata": {
    "id": "ae6f57bb"
   },
   "outputs": [],
   "source": [
    "def conf_matrix(test_original, test_predicted, title):\n",
    "\n",
    "    \"\"\"This function produces confusion matrix of given predicted output.\"\"\"\n",
    "    fig, ax = plot_confusion_matrix(conf_mat = confusion_matrix(test_original, test_predicted), figsize=(5, 5))\n",
    "    plt.title(title, fontsize=20)\n",
    "    plt.ylabel(\"True Output\", fontsize=15)\n",
    "    plt.xlabel(\"Predicted Output\", fontsize=15)\n",
    "    plt.show()"
   ]
  },
  {
   "cell_type": "markdown",
   "metadata": {
    "id": "9c2ccf1e"
   },
   "source": [
    "## 9. Naive Bayes\n",
    "\n",
    "Naive Bayes classifiers are a collection of classification algorithms based on Bayes' Theorem. It is not a single algorithm but a family of algorithms where all of them share a common principle, i.e. every pair of features being classified is independent of each other."
   ]
  },
  {
   "cell_type": "code",
   "execution_count": null,
   "metadata": {
    "colab": {
     "base_uri": "https://localhost:8080/"
    },
    "id": "1f8469d2",
    "outputId": "ec8bff92-f2a0-4bdc-abcc-04e458c56d93"
   },
   "outputs": [
    {
     "name": "stdout",
     "output_type": "stream",
     "text": [
      "Fitting 5 folds for each of 6 candidates, totalling 30 fits\n",
      "Best cross-validation score: 0.83\n",
      "Best parameters:  {'alpha': 1}\n"
     ]
    }
   ],
   "source": [
    "from sklearn.naive_bayes import MultinomialNB\n",
    "\n",
    "clf_nb = MultinomialNB()  ## creating object\n",
    "param_ = {'alpha': [10 ** x for x in range(-3, 3)]}  ## getting parameters\n",
    "\n",
    "## grid search cv to get the optimal output\n",
    "clf = GridSearchCV(clf_nb, param_, cv=5, scoring='f1_micro', return_train_score=True, \n",
    "                   verbose=True, n_jobs=-1).fit(x_train, ytrain)\n",
    "\n",
    "\n",
    "print(\"Best cross-validation score: {:.2f}\".format(clf.best_score_))\n",
    "print(\"Best parameters: \", clf.best_params_)"
   ]
  },
  {
   "cell_type": "code",
   "execution_count": null,
   "metadata": {
    "colab": {
     "base_uri": "https://localhost:8080/"
    },
    "id": "2d537b4d",
    "outputId": "3f9a94f2-1fb0-416d-8d97-92a91f860b67"
   },
   "outputs": [
    {
     "name": "stdout",
     "output_type": "stream",
     "text": [
      "train and test accuracy are 0.8478 and 0.8341 respectively.\n",
      "test fscore, precision and recall are 0.2531, 0.9394, and 0.1462.\n"
     ]
    }
   ],
   "source": [
    "clf_nb = MultinomialNB(alpha = clf.best_params_['alpha']).fit(x_train, ytrain)  ## predicting with best parameters\n",
    "ypred_nb_tr = clf_nb.predict(x_train); ypred_nb_te = clf_nb.predict(x_test) ## output prediction\n",
    "\n",
    "train_acc_nb, test_acc_nb, test_fscore_nb, test_precision_nb, test_recall_nb = output_scores(ytrain, ypred_nb_tr, \n",
    "                                                                                             ytest, ypred_nb_te)\n",
    "\n",
    "print(\"train and test accuracy are {:.4f} and {:.4f} respectively.\".format(train_acc_nb, test_acc_nb))\n",
    "\n",
    "print(\"test fscore, precision and recall are {:.4f}, {:.4f}, and {:.4f}.\".format(test_fscore_nb, test_precision_nb, \n",
    "                                                                                 test_recall_nb))"
   ]
  },
  {
   "cell_type": "code",
   "execution_count": null,
   "metadata": {
    "colab": {
     "base_uri": "https://localhost:8080/",
     "height": 564
    },
    "id": "f3df08a9",
    "outputId": "3112c080-960f-43dd-8a8b-8fbe3ae91e0b"
   },
   "outputs": [
    {
     "name": "stdout",
     "output_type": "stream",
     "text": [
      "Classification Report Test Data for Naive Bayes:\n",
      "\n",
      "               precision    recall  f1-score   support\n",
      "\n",
      "           0       0.83      1.00      0.91       891\n",
      "           1       0.94      0.15      0.25       212\n",
      "\n",
      "    accuracy                           0.83      1103\n",
      "   macro avg       0.89      0.57      0.58      1103\n",
      "weighted avg       0.85      0.83      0.78      1103\n",
      "\n"
     ]
    },
    {
     "data": {
      "image/png": "[encoded data removed]",
      "text/plain": [
       "<Figure size 360x360 with 1 Axes>"
      ]
     },
     "metadata": {
      "needs_background": "light"
     },
     "output_type": "display_data"
    }
   ],
   "source": [
    "print(\"Classification Report Test Data for Naive Bayes:\\n\\n\",\n",
    "      classification_report(ytest, ypred_nb_te)) ## classification report\n",
    "\n",
    "conf_matrix(ytest, ypred_nb_te, \"confusion_matrix_naive_bayes\") ## confusion matrix"
   ]
  },
  {
   "cell_type": "markdown",
   "metadata": {
    "id": "hXzS3TgH_dnZ"
   },
   "source": [
    "## 10. Logistic Regression"
   ]
  },
  {
   "cell_type": "code",
   "execution_count": null,
   "metadata": {
    "colab": {
     "base_uri": "https://localhost:8080/"
    },
    "id": "ByXpJm76_hzi",
    "outputId": "830eb9ac-a17d-4ab5-9ed5-6c7f101839bd"
   },
   "outputs": [
    {
     "name": "stdout",
     "output_type": "stream",
     "text": [
      "Fitting 7 folds for each of 6 candidates, totalling 42 fits\n",
      "Best cross-validation score: 0.85\n",
      "Best parameters:  {'C': 10}\n"
     ]
    }
   ],
   "source": [
    "from sklearn.linear_model import LogisticRegression\n",
    "\n",
    "## creating object\n",
    "clf_lr = LogisticRegression()\n",
    "## getting parameters\n",
    "param_ = {'C': [10 ** x for x in range(-3, 3)]}\n",
    "\n",
    "## grid search cv to get the optimal output\n",
    "clf = GridSearchCV(clf_lr, \n",
    "                   param_, \n",
    "                   cv=7, \n",
    "                   scoring='f1_micro',\n",
    "                   return_train_score=True, \n",
    "                   verbose=True, \n",
    "                   n_jobs=-1). fit(x_train, ytrain)\n",
    "\n",
    "\n",
    "print(\"Best cross-validation score: {:.2f}\".format(clf.best_score_))\n",
    "print(\"Best parameters: \", clf.best_params_)"
   ]
  },
  {
   "cell_type": "code",
   "execution_count": null,
   "metadata": {
    "colab": {
     "base_uri": "https://localhost:8080/"
    },
    "id": "3WRSzY3RBBFB",
    "outputId": "d743976b-1e70-4033-ec14-51d70446a4cc"
   },
   "outputs": [
    {
     "name": "stdout",
     "output_type": "stream",
     "text": [
      "train and test accuracy are 0.9948 and 0.8649 respectively.\n",
      "test fscore, precision and recall are 0.5706, 0.7333, and 0.4670.\n"
     ]
    }
   ],
   "source": [
    "clf_lr = LogisticRegression(C = clf.best_params_['C']).fit(x_train, ytrain)  ## predicting with best parameters\n",
    "ypred_lr_tr = clf_lr.predict(x_train); ypred_lr_te = clf_lr.predict(x_test) ## output prediction\n",
    "\n",
    "train_acc_lr, test_acc_lr, test_fscore_lr, test_precision_lr, test_recall_lr = output_scores(ytrain, ypred_lr_tr, \n",
    "                                                                                             ytest, ypred_lr_te)\n",
    "\n",
    "print(\"train and test accuracy are {:.4f} and {:.4f} respectively.\".format(train_acc_lr, test_acc_lr))\n",
    "\n",
    "print(\"test fscore, precision and recall are {:.4f}, {:.4f}, and {:.4f}.\".format(test_fscore_lr, test_precision_lr, \n",
    "                                                                                 test_recall_lr))"
   ]
  },
  {
   "cell_type": "code",
   "execution_count": null,
   "metadata": {
    "colab": {
     "base_uri": "https://localhost:8080/",
     "height": 564
    },
    "id": "0ZoiZ0KSBY2j",
    "outputId": "9fb3aec9-e0ac-4a88-bc2e-d091721108d1"
   },
   "outputs": [
    {
     "name": "stdout",
     "output_type": "stream",
     "text": [
      "Classification Report Test Data for Logistic Regression :\n",
      "\n",
      "               precision    recall  f1-score   support\n",
      "\n",
      "           0       0.88      0.96      0.92       891\n",
      "           1       0.73      0.47      0.57       212\n",
      "\n",
      "    accuracy                           0.86      1103\n",
      "   macro avg       0.81      0.71      0.75      1103\n",
      "weighted avg       0.85      0.86      0.85      1103\n",
      "\n"
     ]
    },
    {
     "data": {
      "image/png": "[encoded data removed]",
      "text/plain": [
       "<Figure size 360x360 with 1 Axes>"
      ]
     },
     "metadata": {
      "needs_background": "light"
     },
     "output_type": "display_data"
    }
   ],
   "source": [
    "print(\"Classification Report Test Data for Logistic Regression :\\n\\n\",\n",
    "      classification_report(ytest, ypred_lr_te)) ## classification report\n",
    "\n",
    "conf_matrix(ytest, ypred_lr_te, \"confusion_matrix_logistic_regression\") ## confusion matrix"
   ]
  },
  {
   "cell_type": "markdown",
   "metadata": {
    "id": "FqXN54erBgnS"
   },
   "source": [
    "## 11. LSTM "
   ]
  },
  {
   "cell_type": "markdown",
   "metadata": {
    "id": "yZE8YBwiBieo"
   },
   "source": [
    "### 11.1 creating an embedding from given data"
   ]
  },
  {
   "cell_type": "code",
   "execution_count": null,
   "metadata": {
    "id": "4VyMqXzHBhzB"
   },
   "outputs": [],
   "source": [
    "#creating text corpus\n",
    "sentence = \"\"\n",
    "for i in df_m4[\"preprocessed_tweet\"].values:\n",
    "    sentence += str(i)\n",
    "    sentence += \" . \"\n",
    "\n",
    "f = open(\"text_corpus.txt\", \"w\")\n",
    "f.write(sentence) \n",
    "f.close()"
   ]
  },
  {
   "cell_type": "code",
   "execution_count": null,
   "metadata": {
    "colab": {
     "base_uri": "https://localhost:8080/"
    },
    "id": "9duCyzHzGn1J",
    "outputId": "ad380eeb-53c2-4829-a971-31ac6b989355"
   },
   "outputs": [
    {
     "name": "stdout",
     "output_type": "stream",
     "text": [
      "CPU times: user 5.5 s, sys: 992 ms, total: 6.49 s\n",
      "Wall time: 8.22 s\n"
     ]
    }
   ],
   "source": [
    "%%time\n",
    "embedding_model = fasttext.train_unsupervised(\"text_corpus.txt\", minn=3, maxn=6, wordNgrams=3, lr=0.1, dim=100)\n",
    "embedding_model.save_model(\"embedding_model.bin\")"
   ]
  },
  {
   "cell_type": "markdown",
   "metadata": {
    "id": "JXfwUCRDHalC"
   },
   "source": [
    "### 11.2 tokenization and padding"
   ]
  },
  {
   "cell_type": "code",
   "execution_count": null,
   "metadata": {
    "id": "h87Pn9a4Hd8k"
   },
   "outputs": [],
   "source": [
    "from tensorflow.keras.preprocessing.text import Tokenizer\n",
    "\n",
    "tokenizer = Tokenizer()\n",
    "tokenizer.fit_on_texts(xtrain)\n",
    "encoded_docs_train = tokenizer.texts_to_sequences(xtrain)\n",
    "encoded_docs_test = tokenizer.texts_to_sequences(xtest)"
   ]
  },
  {
   "cell_type": "code",
   "execution_count": null,
   "metadata": {
    "id": "omTz7ZXGH0Jl"
   },
   "outputs": [],
   "source": [
    "from tensorflow.keras.preprocessing.sequence import pad_sequences\n",
    "\n",
    "maxlength = 25 #maximum length of a sentence to be padded\n",
    "Xtrain = pad_sequences(encoded_docs_train, maxlen = maxlength, padding='post')\n",
    "Xtest = pad_sequences(encoded_docs_test, maxlen = maxlength, padding='post')"
   ]
  },
  {
   "cell_type": "code",
   "execution_count": null,
   "metadata": {
    "colab": {
     "base_uri": "https://localhost:8080/"
    },
    "id": "AkkloiVQJrkl",
    "outputId": "c81a38a4-45e6-46e8-9054-e5f7c06bade2"
   },
   "outputs": [
    {
     "data": {
      "text/plain": [
       "array([[ 533, 1329, 1330, ...,    0,    0,    0],\n",
       "       [  75,    1,  743, ...,    0,    0,    0],\n",
       "       [ 169, 2117,  461, ...,    0,    0,    0],\n",
       "       ...,\n",
       "       [7139, 7140, 1745, ...,    0,    0,    0],\n",
       "       [7141, 7142,  530, ...,  533,  713,  713],\n",
       "       [7147,  147,   38, ...,    0,    0,    0]], dtype=int32)"
      ]
     },
     "execution_count": 36,
     "metadata": {},
     "output_type": "execute_result"
    }
   ],
   "source": [
    "Xtrain"
   ]
  },
  {
   "cell_type": "markdown",
   "metadata": {
    "id": "kAX1WcmQISHU"
   },
   "source": [
    "### 11. 3 creating embedding"
   ]
  },
  {
   "cell_type": "code",
   "execution_count": null,
   "metadata": {
    "colab": {
     "base_uri": "https://localhost:8080/"
    },
    "id": "KlAcxH1yIUWy",
    "outputId": "b26635b3-ead0-4f19-d552-3a2204e8a47e"
   },
   "outputs": [
    {
     "name": "stdout",
     "output_type": "stream",
     "text": [
      "The shape of emdedding matrix is:  (7149, 100)\n"
     ]
    }
   ],
   "source": [
    "word_index = tokenizer.word_index #getting word index\n",
    "vocab_size = len(word_index) + 1 #getting vocab size\n",
    "embedding_matrix = np.zeros((vocab_size, 100))\n",
    "\n",
    "for word, i in word_index.items(): #creating embedding matrix\n",
    "    dat = embedding_model.get_word_vector(word)\n",
    "    if dat is not None:\n",
    "        embedding_matrix[i] = dat\n",
    "print('The shape of emdedding matrix is: ',embedding_matrix.shape)"
   ]
  },
  {
   "cell_type": "markdown",
   "metadata": {
    "id": "soJX9UsxIkm1"
   },
   "source": [
    "### 11.4 one hot encoding of output data"
   ]
  },
  {
   "cell_type": "code",
   "execution_count": null,
   "metadata": {
    "id": "PYi3f-8dIgUe"
   },
   "outputs": [],
   "source": [
    "from tensorflow.keras.utils import to_categorical\n",
    "\n",
    "y_train = to_categorical(ytrain, 2)\n",
    "y_test = to_categorical(ytest, 2)"
   ]
  },
  {
   "cell_type": "markdown",
   "metadata": {
    "id": "0DeLv6TXIohY"
   },
   "source": [
    "### 11.5 LSTM Model"
   ]
  },
  {
   "cell_type": "code",
   "execution_count": null,
   "metadata": {
    "id": "hvu4-TH5Je_Y"
   },
   "outputs": [],
   "source": [
    "earlyStopping = EarlyStopping(monitor='val_loss', min_delta=0, patience=3, verbose=0, mode='auto')"
   ]
  },
  {
   "cell_type": "code",
   "execution_count": null,
   "metadata": {
    "colab": {
     "base_uri": "https://localhost:8080/"
    },
    "id": "lFpGuecgIqWf",
    "outputId": "19fbe2c1-a874-44f4-b5ca-adbeb5ac759b"
   },
   "outputs": [
    {
     "name": "stdout",
     "output_type": "stream",
     "text": [
      "WARNING:tensorflow:Layer lstm_1 will not use cuDNN kernels since it doesn't meet the criteria. It will use a generic GPU kernel as fallback when running on GPU.\n"
     ]
    }
   ],
   "source": [
    "inputs = Input(shape=(maxlength,), dtype='int32', name='Input_Text')\n",
    "Embedding_Layer = Embedding(vocab_size, 100, weights = [embedding_matrix], input_length = maxlength, trainable=False)(inputs)\n",
    "sp_drop = SpatialDropout1D(0.2)(Embedding_Layer)\n",
    "lstmLayer =  tf.keras.layers.LSTM(128, kernel_initializer='glorot_normal', return_sequences=True,\n",
    "                                   dropout=0.4, recurrent_dropout=0.4)(sp_drop)\n",
    "flat = Flatten()(lstmLayer)\n",
    "dropout = Dropout(0.2)(flat)\n",
    "dense = Dense(64, activation='relu')(dropout)\n",
    "output = Dense(2, activation='sigmoid')(dense)\n",
    "lstm_model = Model(inputs,output)"
   ]
  },
  {
   "cell_type": "code",
   "execution_count": null,
   "metadata": {
    "colab": {
     "base_uri": "https://localhost:8080/"
    },
    "id": "flV-a0J_KMmW",
    "outputId": "323d6407-5632-4979-94be-85251cd13490"
   },
   "outputs": [
    {
     "name": "stdout",
     "output_type": "stream",
     "text": [
      "Model: \"model_1\"\n",
      "_________________________________________________________________\n",
      " Layer (type)                Output Shape              Param #   \n",
      "=================================================================\n",
      " Input_Text (InputLayer)     [(None, 25)]              0         \n",
      "                                                                 \n",
      " embedding_1 (Embedding)     (None, 25, 100)           714900    \n",
      "                                                                 \n",
      " spatial_dropout1d_1 (Spatia  (None, 25, 100)          0         \n",
      " lDropout1D)                                                     \n",
      "                                                                 \n",
      " lstm_1 (LSTM)               (None, 25, 128)           117248    \n",
      "                                                                 \n",
      " flatten_1 (Flatten)         (None, 3200)              0         \n",
      "                                                                 \n",
      " dropout_1 (Dropout)         (None, 3200)              0         \n",
      "                                                                 \n",
      " dense_2 (Dense)             (None, 64)                204864    \n",
      "                                                                 \n",
      " dense_3 (Dense)             (None, 2)                 130       \n",
      "                                                                 \n",
      "=================================================================\n",
      "Total params: 1,037,142\n",
      "Trainable params: 322,242\n",
      "Non-trainable params: 714,900\n",
      "_________________________________________________________________\n"
     ]
    }
   ],
   "source": [
    "lstm_model.summary()"
   ]
  },
  {
   "cell_type": "code",
   "execution_count": null,
   "metadata": {
    "colab": {
     "base_uri": "https://localhost:8080/"
    },
    "id": "2tcirZDKI8rz",
    "outputId": "5ff3cba1-09fd-4598-a32e-7eb9405c92d5"
   },
   "outputs": [
    {
     "name": "stdout",
     "output_type": "stream",
     "text": [
      "Epoch 1/30\n",
      "69/69 [==============================] - 43s 100ms/step - loss: 0.4572 - accuracy: 0.8169 - val_loss: 0.4355 - val_accuracy: 0.8232\n",
      "Epoch 2/30\n",
      "69/69 [==============================] - 7s 98ms/step - loss: 0.4303 - accuracy: 0.8246 - val_loss: 0.4139 - val_accuracy: 0.8277\n",
      "Epoch 3/30\n",
      "69/69 [==============================] - 7s 95ms/step - loss: 0.4278 - accuracy: 0.8215 - val_loss: 0.4144 - val_accuracy: 0.8305\n",
      "Epoch 4/30\n",
      "69/69 [==============================] - 7s 97ms/step - loss: 0.4198 - accuracy: 0.8289 - val_loss: 0.4057 - val_accuracy: 0.8286\n",
      "Epoch 5/30\n",
      "69/69 [==============================] - 7s 97ms/step - loss: 0.4174 - accuracy: 0.8278 - val_loss: 0.4119 - val_accuracy: 0.8296\n",
      "Epoch 6/30\n",
      "69/69 [==============================] - 7s 96ms/step - loss: 0.4179 - accuracy: 0.8271 - val_loss: 0.4087 - val_accuracy: 0.8241\n",
      "Epoch 7/30\n",
      "69/69 [==============================] - 7s 99ms/step - loss: 0.4136 - accuracy: 0.8276 - val_loss: 0.4068 - val_accuracy: 0.8286\n"
     ]
    },
    {
     "data": {
      "text/plain": [
       "<keras.callbacks.History at 0x7f73a45af290>"
      ]
     },
     "execution_count": 46,
     "metadata": {},
     "output_type": "execute_result"
    }
   ],
   "source": [
    "lstm_model.compile(loss = \"binary_crossentropy\", optimizer = \"adam\", metrics = [\"accuracy\"]) #compile the model\n",
    "lstm_model.fit(Xtrain, y_train, batch_size=64, verbose=1, epochs=30, validation_data=(Xtest,y_test), shuffle=True,\n",
    "          callbacks = [earlyStopping]) #fitting the model "
   ]
  },
  {
   "cell_type": "markdown",
   "metadata": {
    "id": "l2C8uhd4JPyi"
   },
   "source": [
    "### 11.6 Prediction"
   ]
  },
  {
   "cell_type": "code",
   "execution_count": null,
   "metadata": {
    "colab": {
     "base_uri": "https://localhost:8080/"
    },
    "id": "9o-9sjoHJS0D",
    "outputId": "058e451d-f53b-4684-b32d-1c674b84823e"
   },
   "outputs": [
    {
     "name": "stdout",
     "output_type": "stream",
     "text": [
      "138/138 [==============================] - 1s 7ms/step\n",
      "35/35 [==============================] - 0s 7ms/step\n"
     ]
    }
   ],
   "source": [
    "## using predict attribute to get the likelihood/probabilities\n",
    "ytrain_pred_lstm = lstm_model.predict(Xtrain, verbose=1)\n",
    "ytest_pred_lstm = lstm_model.predict(Xtest, verbose=1)\n",
    "\n",
    "## getting the predicted class from the likelihoods\n",
    "ytrain_predicted_lstm = [max(enumerate(val), key=operator.itemgetter(1))[0] for val in ytrain_pred_lstm]\n",
    "ytest_predicted_lstm = [max(enumerate(val), key=operator.itemgetter(1))[0] for val in ytest_pred_lstm]"
   ]
  },
  {
   "cell_type": "code",
   "execution_count": null,
   "metadata": {
    "colab": {
     "base_uri": "https://localhost:8080/"
    },
    "id": "fOeG4VqSseUL",
    "outputId": "48f49ac1-1fad-49bc-daf8-a8de9776bc3a"
   },
   "outputs": [
    {
     "name": "stdout",
     "output_type": "stream",
     "text": [
      "train and test accuracy are 0.8308 and 0.8286 respectively.\n",
      "test fscore, precision and recall are 0.2158, 0.8966, and 0.1226.\n"
     ]
    }
   ],
   "source": [
    "train_acc_lstm, test_acc_lstm, test_fscore_lstm, test_precision_lstm, test_recall_lstm = output_scores(ytrain, ytrain_predicted_lstm, \n",
    "                                                                                                       ytest, ytest_predicted_lstm)\n",
    "\n",
    "print(\"train and test accuracy are {:.4f} and {:.4f} respectively.\".format(train_acc_lstm, test_acc_lstm))\n",
    "\n",
    "print(\"test fscore, precision and recall are {:.4f}, {:.4f}, and {:.4f}.\".format(test_fscore_lstm, test_precision_lstm, test_recall_lstm))"
   ]
  },
  {
   "cell_type": "code",
   "execution_count": null,
   "metadata": {
    "colab": {
     "base_uri": "https://localhost:8080/",
     "height": 564
    },
    "id": "kHXIYhG3P0n_",
    "outputId": "a861cb73-e3f8-4c2f-83d9-b058417a618c"
   },
   "outputs": [
    {
     "name": "stdout",
     "output_type": "stream",
     "text": [
      "Classification Report Test Data for lstm model:\n",
      "\n",
      "               precision    recall  f1-score   support\n",
      "\n",
      "           0       0.83      1.00      0.90       891\n",
      "           1       0.90      0.12      0.22       212\n",
      "\n",
      "    accuracy                           0.83      1103\n",
      "   macro avg       0.86      0.56      0.56      1103\n",
      "weighted avg       0.84      0.83      0.77      1103\n",
      "\n"
     ]
    },
    {
     "data": {
      "image/png": "[encoded data removed]",
      "text/plain": [
       "<Figure size 360x360 with 1 Axes>"
      ]
     },
     "metadata": {
      "needs_background": "light"
     },
     "output_type": "display_data"
    }
   ],
   "source": [
    "print(\"Classification Report Test Data for lstm model:\\n\\n\",\n",
    "      classification_report(ytest, ytest_predicted_lstm)) ## classification report\n",
    "\n",
    "conf_matrix(ytest, ytest_predicted_lstm, \"confusion_matrix_lstm_model\") ## confusion matrix"
   ]
  },
  {
   "cell_type": "markdown",
   "metadata": {
    "id": "5wRtsuxQQO4R"
   },
   "source": [
    "## 12. Attention Model"
   ]
  },
  {
   "cell_type": "code",
   "execution_count": null,
   "metadata": {
    "id": "-7yAp5DlG_Ie"
   },
   "outputs": [],
   "source": [
    "class Attention(tf.keras.layers.Layer):\n",
    "    '''\n",
    "    Class the calculates score based on the scoring_function using Bahdanu attention mechanism.\n",
    "    '''\n",
    "    def __init__(self, att_units, name=None, **kwargs):\n",
    "        super(Attention, self).__init__(name=name)\n",
    "        #number of attention units to be provided\n",
    "        self.att_units = att_units\n",
    "        super(Attention, self).__init__(**kwargs)\n",
    "        \n",
    "        # Intialize variables needed for Concat score function here\n",
    "        self.W1=tf.keras.layers.Dense(att_units)\n",
    "        self.W2=tf.keras.layers.Dense(att_units)\n",
    "        self.V=tf.keras.layers.Dense(1)\n",
    "\n",
    "    def get_config(self):\n",
    "        config = super(Attention, self).get_config()\n",
    "        config.update({\"att_units\": self.att_units})\n",
    "        return config\n",
    "\n",
    "    def call(self,lstm_output, hidden_state):\n",
    "        \n",
    "        \"\"\"\n",
    "        hidden state shape == (batch_size, hidden size)\n",
    "        lstm output shape == (batch_size, max_length, hidden size)\n",
    "        \"\"\"\n",
    "        \n",
    "        #state_with_time_axis shape == (batch_size, 1, hidden size)\n",
    "        #we are doing this to broadcast addition along the time axis to calculate the score\n",
    "        state_with_time_axis = tf.expand_dims(hidden_state, 1)\n",
    "        \n",
    "        #score shape == (batch_size, max_length, 1)\n",
    "        #we get 1 at the last axis because we are applying score to self.V\n",
    "        #the shape of the tensor before applying self.V is (batch_size, max_length, units)\n",
    "        score = self.V(tf.nn.tanh(self.W1(state_with_time_axis) + self.W2(lstm_output)))\n",
    "\n",
    "        # attention_weights shape == (batch_size, max_length, 1)\n",
    "        attention_weights=tf.nn.softmax(score, axis=1)\n",
    "\n",
    "        # context_vector shape after sum == (batch_size, hidden_size)\n",
    "        context_vector = attention_weights*lstm_output\n",
    "        context_vector = tf.reduce_sum(context_vector, axis=1)  \n",
    "\n",
    "        return context_vector, attention_weights"
   ]
  },
  {
   "cell_type": "code",
   "execution_count": null,
   "metadata": {
    "id": "GBQLTsObJLZH"
   },
   "outputs": [],
   "source": [
    "inputs = Input(shape=(maxlength,), dtype='int32', name='Input_Text')\n",
    "Embedding_Layer = Embedding(vocab_size, 100, weights=[embedding_matrix], input_length=maxlength, trainable=False)(inputs)\n",
    "lstm_output, fw_state_h, fw_state_c, bw_state_h, bw_state_c = Bidirectional(LSTM(64, return_sequences=True, return_state=True))(Embedding_Layer)\n",
    "state_h = Concatenate()([fw_state_h, bw_state_h])\n",
    "context_vector, attention_weights = Attention(10)(lstm_output, state_h)\n",
    "dense = Dense(128, activation='relu', name= \"Dense_Layer\")(context_vector)\n",
    "output = Dense(2, activation='sigmoid', name= \"Output_Layer\")(dense)\n",
    "model_attention = Model(inputs,output)"
   ]
  },
  {
   "cell_type": "code",
   "execution_count": null,
   "metadata": {
    "colab": {
     "base_uri": "https://localhost:8080/"
    },
    "id": "-0nZiSYOJZ26",
    "outputId": "c1ff75ba-66d4-4848-fa01-276ff0ac2cef"
   },
   "outputs": [
    {
     "name": "stdout",
     "output_type": "stream",
     "text": [
      "Epoch 1/30\n",
      "69/69 [==============================] - 6s 23ms/step - loss: 0.4810 - accuracy: 0.8158 - val_loss: 0.4269 - val_accuracy: 0.8141\n",
      "Epoch 2/30\n",
      "69/69 [==============================] - 1s 8ms/step - loss: 0.4281 - accuracy: 0.8221 - val_loss: 0.4216 - val_accuracy: 0.8178\n",
      "Epoch 3/30\n",
      "69/69 [==============================] - 1s 8ms/step - loss: 0.4213 - accuracy: 0.8258 - val_loss: 0.4138 - val_accuracy: 0.8241\n",
      "Epoch 4/30\n",
      "69/69 [==============================] - 1s 10ms/step - loss: 0.4182 - accuracy: 0.8287 - val_loss: 0.4132 - val_accuracy: 0.8250\n",
      "Epoch 5/30\n",
      "69/69 [==============================] - 1s 8ms/step - loss: 0.4178 - accuracy: 0.8296 - val_loss: 0.4136 - val_accuracy: 0.8314\n",
      "Epoch 6/30\n",
      "69/69 [==============================] - 1s 8ms/step - loss: 0.4112 - accuracy: 0.8303 - val_loss: 0.4101 - val_accuracy: 0.8259\n",
      "Epoch 7/30\n",
      "69/69 [==============================] - 1s 8ms/step - loss: 0.4093 - accuracy: 0.8296 - val_loss: 0.4144 - val_accuracy: 0.8259\n",
      "Epoch 8/30\n",
      "69/69 [==============================] - 1s 9ms/step - loss: 0.4155 - accuracy: 0.8280 - val_loss: 0.4049 - val_accuracy: 0.8296\n",
      "Epoch 9/30\n",
      "69/69 [==============================] - 1s 9ms/step - loss: 0.4056 - accuracy: 0.8339 - val_loss: 0.4015 - val_accuracy: 0.8323\n",
      "Epoch 10/30\n",
      "69/69 [==============================] - 1s 8ms/step - loss: 0.4031 - accuracy: 0.8308 - val_loss: 0.4010 - val_accuracy: 0.8323\n",
      "Epoch 11/30\n",
      "69/69 [==============================] - 1s 8ms/step - loss: 0.4025 - accuracy: 0.8344 - val_loss: 0.4127 - val_accuracy: 0.8286\n",
      "Epoch 12/30\n",
      "69/69 [==============================] - 1s 9ms/step - loss: 0.3991 - accuracy: 0.8321 - val_loss: 0.3934 - val_accuracy: 0.8296\n",
      "Epoch 13/30\n",
      "69/69 [==============================] - 1s 8ms/step - loss: 0.3962 - accuracy: 0.8317 - val_loss: 0.3984 - val_accuracy: 0.8305\n",
      "Epoch 14/30\n",
      "69/69 [==============================] - 1s 8ms/step - loss: 0.3948 - accuracy: 0.8326 - val_loss: 0.4079 - val_accuracy: 0.8241\n",
      "Epoch 15/30\n",
      "69/69 [==============================] - 1s 9ms/step - loss: 0.3946 - accuracy: 0.8314 - val_loss: 0.4020 - val_accuracy: 0.8305\n"
     ]
    },
    {
     "data": {
      "text/plain": [
       "<keras.callbacks.History at 0x7f7426df3cd0>"
      ]
     },
     "execution_count": 55,
     "metadata": {},
     "output_type": "execute_result"
    }
   ],
   "source": [
    "model_attention.compile(loss = \"binary_crossentropy\", optimizer = \"adam\", metrics = [\"accuracy\"]) #compile the model\n",
    "model_attention.fit(Xtrain, y_train, batch_size=64, verbose=1, epochs=30, validation_data=(Xtest,y_test), shuffle=True,\n",
    "          callbacks = [earlyStopping]) #fitting the model "
   ]
  },
  {
   "cell_type": "markdown",
   "metadata": {
    "id": "M7aZ-2dTLlS0"
   },
   "source": [
    "### 12.1 Prediction"
   ]
  },
  {
   "cell_type": "code",
   "execution_count": null,
   "metadata": {
    "colab": {
     "base_uri": "https://localhost:8080/"
    },
    "id": "QliUStZrterN",
    "outputId": "0d5a8cc6-5758-48f6-9298-0f44e4d59b95"
   },
   "outputs": [
    {
     "name": "stdout",
     "output_type": "stream",
     "text": [
      "138/138 [==============================] - 1s 3ms/step\n",
      "35/35 [==============================] - 0s 4ms/step\n"
     ]
    }
   ],
   "source": [
    "## using predict attribute to get the likelihood/probabilities\n",
    "ytrain_pred_attn = model_attention.predict(Xtrain, verbose=1)\n",
    "ytest_pred_attn = model_attention.predict(Xtest, verbose=1)\n",
    "\n",
    "## getting the predicted class from the likelihoods\n",
    "ytrain_predicted_attn = [max(enumerate(val), key=operator.itemgetter(1))[0] for val in ytrain_pred_attn]\n",
    "ytest_predicted_attn = [max(enumerate(val), key=operator.itemgetter(1))[0] for val in ytest_pred_attn]"
   ]
  },
  {
   "cell_type": "code",
   "execution_count": null,
   "metadata": {
    "colab": {
     "base_uri": "https://localhost:8080/"
    },
    "id": "_aVrqoBxtvlO",
    "outputId": "e193c88d-c5d7-4b59-ae54-01a4abc0aa4e"
   },
   "outputs": [
    {
     "name": "stdout",
     "output_type": "stream",
     "text": [
      "train and test accuracy are 0.8362 and 0.8305 respectively.\n",
      "test fscore, precision and recall are 0.2724, 0.7778, and 0.1651.\n"
     ]
    }
   ],
   "source": [
    "train_acc_attn, test_acc_attn, test_fscore_attn, test_precision_attn, test_recall_attn = output_scores(ytrain, ytrain_predicted_attn, \n",
    "                                                                                                       ytest, ytest_predicted_attn)\n",
    "\n",
    "print(\"train and test accuracy are {:.4f} and {:.4f} respectively.\".format(train_acc_attn, test_acc_attn))\n",
    "\n",
    "print(\"test fscore, precision and recall are {:.4f}, {:.4f}, and {:.4f}.\".format(test_fscore_attn, test_precision_attn, test_recall_attn))"
   ]
  },
  {
   "cell_type": "code",
   "execution_count": null,
   "metadata": {
    "colab": {
     "base_uri": "https://localhost:8080/",
     "height": 564
    },
    "id": "i-Ibc1uJLlsF",
    "outputId": "b413a4c9-89b6-4e95-901a-c218fd2bcafa"
   },
   "outputs": [
    {
     "name": "stdout",
     "output_type": "stream",
     "text": [
      "Classification Report Test Data for attention model:\n",
      "\n",
      "               precision    recall  f1-score   support\n",
      "\n",
      "           0       0.83      0.99      0.90       891\n",
      "           1       0.78      0.17      0.27       212\n",
      "\n",
      "    accuracy                           0.83      1103\n",
      "   macro avg       0.81      0.58      0.59      1103\n",
      "weighted avg       0.82      0.83      0.78      1103\n",
      "\n"
     ]
    },
    {
     "data": {
      "image/png": "[encoded data removed]",
      "text/plain": [
       "<Figure size 360x360 with 1 Axes>"
      ]
     },
     "metadata": {
      "needs_background": "light"
     },
     "output_type": "display_data"
    }
   ],
   "source": [
    "print(\"Classification Report Test Data for attention model:\\n\\n\",\n",
    "      classification_report(ytest, ytest_predicted_attn)) ## classification report\n",
    "\n",
    "conf_matrix(ytest, ytest_predicted_attn, \"confusion_matrix_attention_model\") ## confusion matrix"
   ]
  },
  {
   "cell_type": "markdown",
   "metadata": {
    "id": "HG7Soh8kuHPY"
   },
   "source": [
    "## 13. Model Comparison"
   ]
  },
  {
   "cell_type": "code",
   "execution_count": null,
   "metadata": {
    "id": "HG0A6D4PwwNS"
   },
   "outputs": [],
   "source": [
    "## getting list of scores\n",
    "model_name = ['Naive Bayes', 'Logistic Regression', 'LSTM', 'Attention']\n",
    "train_accuracy_scores = [train_acc_nb, train_acc_lr, train_acc_lstm, train_acc_attn]\n",
    "test_accuracy_scores = [test_acc_nb, test_acc_lr, test_acc_lstm, test_acc_attn]\n",
    "f1_scores = [test_fscore_nb, test_fscore_lr, test_fscore_lstm, test_fscore_attn]"
   ]
  },
  {
   "cell_type": "markdown",
   "metadata": {
    "id": "PC4HdxU4x8RY"
   },
   "source": [
    "### 13.1 accuracy scores"
   ]
  },
  {
   "cell_type": "code",
   "execution_count": null,
   "metadata": {
    "colab": {
     "base_uri": "https://localhost:8080/",
     "height": 295
    },
    "id": "1qibRHvGwwPy",
    "outputId": "9b912e7d-6d10-4adb-a5bd-81de9c17e019"
   },
   "outputs": [
    {
     "data": {
      "image/png": "[encoded data removed]",
      "text/plain": [
       "<Figure size 432x288 with 1 Axes>"
      ]
     },
     "metadata": {
      "needs_background": "light"
     },
     "output_type": "display_data"
    }
   ],
   "source": [
    "axis = sns.barplot(x = model_name, y = test_accuracy_scores)\n",
    "axis.set(xlabel='Classifier', ylabel='Accuracy')\n",
    "for p in axis.patches:\n",
    "    height = p.get_height()\n",
    "    axis.text(p.get_x() + p.get_width()/2, height + 0.005, '{:1.4f}'.format(height), ha=\"center\") \n",
    "plt.title('Accuracy score of different supervised learning models')\n",
    "plt.show()"
   ]
  },
  {
   "cell_type": "markdown",
   "metadata": {
    "id": "PNFx5jn7x_uM"
   },
   "source": [
    "### 13.2 f1score"
   ]
  },
  {
   "cell_type": "code",
   "execution_count": null,
   "metadata": {
    "colab": {
     "base_uri": "https://localhost:8080/",
     "height": 295
    },
    "id": "4JSITM9EyCWP",
    "outputId": "4ed98692-81fe-42a8-8184-7fa4d5eb73f8"
   },
   "outputs": [
    {
     "data": {
      "image/png": "[encoded data removed]",
      "text/plain": [
       "<Figure size 432x288 with 1 Axes>"
      ]
     },
     "metadata": {
      "needs_background": "light"
     },
     "output_type": "display_data"
    }
   ],
   "source": [
    "axis = sns.barplot(x = model_name, y = f1_scores)\n",
    "axis.set(xlabel='Classifier', ylabel='F1 Score')\n",
    "for p in axis.patches:\n",
    "    height = p.get_height()\n",
    "    axis.text(p.get_x() + p.get_width()/2, height + 0.005, '{:1.4f}'.format(height), ha=\"center\") \n",
    "plt.title('F1 Score score of different supervised learning models')\n",
    "plt.show()"
   ]
  }
 ],
 "metadata": {
  "accelerator": "GPU",
  "colab": {
   "collapsed_sections": [],
   "name": "sentiment_analysis_sonia_v1.ipynb",
   "provenance": []
  },
  "kernelspec": {
   "display_name": "Python 3",
   "language": "python",
   "name": "python3"
  },
  "language_info": {
   "codemirror_mode": {
    "name": "ipython",
    "version": 3
   },
   "file_extension": ".py",
   "mimetype": "text/x-python",
   "name": "python",
   "nbconvert_exporter": "python",
   "pygments_lexer": "ipython3",
   "version": "3.8.5"
  },
  "widgets": {
   "application/vnd.jupyter.widget-state+json": {
    "006cd7d839064a65a01fbfdb6833560f": {
     "model_module": "@jupyter-widgets/base",
     "model_module_version": "1.2.0",
     "model_name": "LayoutModel",
     "state": {
      "_model_module": "@jupyter-widgets/base",
      "_model_module_version": "1.2.0",
      "_model_name": "LayoutModel",
      "_view_count": null,
      "_view_module": "@jupyter-widgets/base",
      "_view_module_version": "1.2.0",
      "_view_name": "LayoutView",
      "align_content": null,
      "align_items": null,
      "align_self": null,
      "border": null,
      "bottom": null,
      "display": null,
      "flex": null,
      "flex_flow": null,
      "grid_area": null,
      "grid_auto_columns": null,
      "grid_auto_flow": null,
      "grid_auto_rows": null,
      "grid_column": null,
      "grid_gap": null,
      "grid_row": null,
      "grid_template_areas": null,
      "grid_template_columns": null,
      "grid_template_rows": null,
      "height": null,
      "justify_content": null,
      "justify_items": null,
      "left": null,
      "margin": null,
      "max_height": null,
      "max_width": null,
      "min_height": null,
      "min_width": null,
      "object_fit": null,
      "object_position": null,
      "order": null,
      "overflow": null,
      "overflow_x": null,
      "overflow_y": null,
      "padding": null,
      "right": null,
      "top": null,
      "visibility": null,
      "width": null
     }
    },
    "0ab23a8f0099460084b6c8e65b7c4983": {
     "model_module": "@jupyter-widgets/controls",
     "model_module_version": "1.5.0",
     "model_name": "DescriptionStyleModel",
     "state": {
      "_model_module": "@jupyter-widgets/controls",
      "_model_module_version": "1.5.0",
      "_model_name": "DescriptionStyleModel",
      "_view_count": null,
      "_view_module": "@jupyter-widgets/base",
      "_view_module_version": "1.2.0",
      "_view_name": "StyleView",
      "description_width": ""
     }
    },
    "14a17a8395994ee69ee20d232b467537": {
     "model_module": "@jupyter-widgets/controls",
     "model_module_version": "1.5.0",
     "model_name": "DescriptionStyleModel",
     "state": {
      "_model_module": "@jupyter-widgets/controls",
      "_model_module_version": "1.5.0",
      "_model_name": "DescriptionStyleModel",
      "_view_count": null,
      "_view_module": "@jupyter-widgets/base",
      "_view_module_version": "1.2.0",
      "_view_name": "StyleView",
      "description_width": ""
     }
    },
    "1aeb21b6a8a1400d8484f9ab9475b739": {
     "model_module": "@jupyter-widgets/base",
     "model_module_version": "1.2.0",
     "model_name": "LayoutModel",
     "state": {
      "_model_module": "@jupyter-widgets/base",
      "_model_module_version": "1.2.0",
      "_model_name": "LayoutModel",
      "_view_count": null,
      "_view_module": "@jupyter-widgets/base",
      "_view_module_version": "1.2.0",
      "_view_name": "LayoutView",
      "align_content": null,
      "align_items": null,
      "align_self": null,
      "border": null,
      "bottom": null,
      "display": null,
      "flex": null,
      "flex_flow": null,
      "grid_area": null,
      "grid_auto_columns": null,
      "grid_auto_flow": null,
      "grid_auto_rows": null,
      "grid_column": null,
      "grid_gap": null,
      "grid_row": null,
      "grid_template_areas": null,
      "grid_template_columns": null,
      "grid_template_rows": null,
      "height": null,
      "justify_content": null,
      "justify_items": null,
      "left": null,
      "margin": null,
      "max_height": null,
      "max_width": null,
      "min_height": null,
      "min_width": null,
      "object_fit": null,
      "object_position": null,
      "order": null,
      "overflow": null,
      "overflow_x": null,
      "overflow_y": null,
      "padding": null,
      "right": null,
      "top": null,
      "visibility": null,
      "width": null
     }
    },
    "1c3c9bb025de4181a2fbf730af9e0bbc": {
     "model_module": "@jupyter-widgets/controls",
     "model_module_version": "1.5.0",
     "model_name": "DescriptionStyleModel",
     "state": {
      "_model_module": "@jupyter-widgets/controls",
      "_model_module_version": "1.5.0",
      "_model_name": "DescriptionStyleModel",
      "_view_count": null,
      "_view_module": "@jupyter-widgets/base",
      "_view_module_version": "1.2.0",
      "_view_name": "StyleView",
      "description_width": ""
     }
    },
    "21eed3190f184f1194d9a3ae21a51693": {
     "model_module": "@jupyter-widgets/base",
     "model_module_version": "1.2.0",
     "model_name": "LayoutModel",
     "state": {
      "_model_module": "@jupyter-widgets/base",
      "_model_module_version": "1.2.0",
      "_model_name": "LayoutModel",
      "_view_count": null,
      "_view_module": "@jupyter-widgets/base",
      "_view_module_version": "1.2.0",
      "_view_name": "LayoutView",
      "align_content": null,
      "align_items": null,
      "align_self": null,
      "border": null,
      "bottom": null,
      "display": null,
      "flex": null,
      "flex_flow": null,
      "grid_area": null,
      "grid_auto_columns": null,
      "grid_auto_flow": null,
      "grid_auto_rows": null,
      "grid_column": null,
      "grid_gap": null,
      "grid_row": null,
      "grid_template_areas": null,
      "grid_template_columns": null,
      "grid_template_rows": null,
      "height": null,
      "justify_content": null,
      "justify_items": null,
      "left": null,
      "margin": null,
      "max_height": null,
      "max_width": null,
      "min_height": null,
      "min_width": null,
      "object_fit": null,
      "object_position": null,
      "order": null,
      "overflow": null,
      "overflow_x": null,
      "overflow_y": null,
      "padding": null,
      "right": null,
      "top": null,
      "visibility": null,
      "width": null
     }
    },
    "280844861b174ac084e75fa3d4b6361a": {
     "model_module": "@jupyter-widgets/controls",
     "model_module_version": "1.5.0",
     "model_name": "HTMLModel",
     "state": {
      "_dom_classes": [],
      "_model_module": "@jupyter-widgets/controls",
      "_model_module_version": "1.5.0",
      "_model_name": "HTMLModel",
      "_view_count": null,
      "_view_module": "@jupyter-widgets/controls",
      "_view_module_version": "1.5.0",
      "_view_name": "HTMLView",
      "description": "",
      "description_tooltip": null,
      "layout": "IPY_MODEL_457cf2a283a44418b946ec1f61969b39",
      "placeholder": "​",
      "style": "IPY_MODEL_ea4ddbd55c754e64929d76db962e572d",
      "value": "100%"
     }
    },
    "2d3a8475aea747b9958f7a444f81ea76": {
     "model_module": "@jupyter-widgets/controls",
     "model_module_version": "1.5.0",
     "model_name": "FloatProgressModel",
     "state": {
      "_dom_classes": [],
      "_model_module": "@jupyter-widgets/controls",
      "_model_module_version": "1.5.0",
      "_model_name": "FloatProgressModel",
      "_view_count": null,
      "_view_module": "@jupyter-widgets/controls",
      "_view_module_version": "1.5.0",
      "_view_name": "ProgressView",
      "bar_style": "success",
      "description": "",
      "description_tooltip": null,
      "layout": "IPY_MODEL_9f923e8063704f678bb4a51bd752e982",
      "max": 5511,
      "min": 0,
      "orientation": "horizontal",
      "style": "IPY_MODEL_acd07a7dc0054b9e9ceeec5f0ec00f0d",
      "value": 5511
     }
    },
    "43486bbfe70648b68514d90a461fd650": {
     "model_module": "@jupyter-widgets/controls",
     "model_module_version": "1.5.0",
     "model_name": "HTMLModel",
     "state": {
      "_dom_classes": [],
      "_model_module": "@jupyter-widgets/controls",
      "_model_module_version": "1.5.0",
      "_model_name": "HTMLModel",
      "_view_count": null,
      "_view_module": "@jupyter-widgets/controls",
      "_view_module_version": "1.5.0",
      "_view_name": "HTMLView",
      "description": "",
      "description_tooltip": null,
      "layout": "IPY_MODEL_90e2431963444a7abab778f0957daa88",
      "placeholder": "​",
      "style": "IPY_MODEL_0ab23a8f0099460084b6c8e65b7c4983",
      "value": " 5511/5511 [00:00&lt;00:00, 35593.08it/s]"
     }
    },
    "457cf2a283a44418b946ec1f61969b39": {
     "model_module": "@jupyter-widgets/base",
     "model_module_version": "1.2.0",
     "model_name": "LayoutModel",
     "state": {
      "_model_module": "@jupyter-widgets/base",
      "_model_module_version": "1.2.0",
      "_model_name": "LayoutModel",
      "_view_count": null,
      "_view_module": "@jupyter-widgets/base",
      "_view_module_version": "1.2.0",
      "_view_name": "LayoutView",
      "align_content": null,
      "align_items": null,
      "align_self": null,
      "border": null,
      "bottom": null,
      "display": null,
      "flex": null,
      "flex_flow": null,
      "grid_area": null,
      "grid_auto_columns": null,
      "grid_auto_flow": null,
      "grid_auto_rows": null,
      "grid_column": null,
      "grid_gap": null,
      "grid_row": null,
      "grid_template_areas": null,
      "grid_template_columns": null,
      "grid_template_rows": null,
      "height": null,
      "justify_content": null,
      "justify_items": null,
      "left": null,
      "margin": null,
      "max_height": null,
      "max_width": null,
      "min_height": null,
      "min_width": null,
      "object_fit": null,
      "object_position": null,
      "order": null,
      "overflow": null,
      "overflow_x": null,
      "overflow_y": null,
      "padding": null,
      "right": null,
      "top": null,
      "visibility": null,
      "width": null
     }
    },
    "4b520d13794d4dafaf6e3c75241505c6": {
     "model_module": "@jupyter-widgets/controls",
     "model_module_version": "1.5.0",
     "model_name": "ProgressStyleModel",
     "state": {
      "_model_module": "@jupyter-widgets/controls",
      "_model_module_version": "1.5.0",
      "_model_name": "ProgressStyleModel",
      "_view_count": null,
      "_view_module": "@jupyter-widgets/base",
      "_view_module_version": "1.2.0",
      "_view_name": "StyleView",
      "bar_color": null,
      "description_width": ""
     }
    },
    "4f33a90b096046909e915882261fc989": {
     "model_module": "@jupyter-widgets/controls",
     "model_module_version": "1.5.0",
     "model_name": "FloatProgressModel",
     "state": {
      "_dom_classes": [],
      "_model_module": "@jupyter-widgets/controls",
      "_model_module_version": "1.5.0",
      "_model_name": "FloatProgressModel",
      "_view_count": null,
      "_view_module": "@jupyter-widgets/controls",
      "_view_module_version": "1.5.0",
      "_view_name": "ProgressView",
      "bar_style": "success",
      "description": "",
      "description_tooltip": null,
      "layout": "IPY_MODEL_006cd7d839064a65a01fbfdb6833560f",
      "max": 5511,
      "min": 0,
      "orientation": "horizontal",
      "style": "IPY_MODEL_4b520d13794d4dafaf6e3c75241505c6",
      "value": 5511
     }
    },
    "58e2108625e14916a55f9513170cc010": {
     "model_module": "@jupyter-widgets/base",
     "model_module_version": "1.2.0",
     "model_name": "LayoutModel",
     "state": {
      "_model_module": "@jupyter-widgets/base",
      "_model_module_version": "1.2.0",
      "_model_name": "LayoutModel",
      "_view_count": null,
      "_view_module": "@jupyter-widgets/base",
      "_view_module_version": "1.2.0",
      "_view_name": "LayoutView",
      "align_content": null,
      "align_items": null,
      "align_self": null,
      "border": null,
      "bottom": null,
      "display": null,
      "flex": null,
      "flex_flow": null,
      "grid_area": null,
      "grid_auto_columns": null,
      "grid_auto_flow": null,
      "grid_auto_rows": null,
      "grid_column": null,
      "grid_gap": null,
      "grid_row": null,
      "grid_template_areas": null,
      "grid_template_columns": null,
      "grid_template_rows": null,
      "height": null,
      "justify_content": null,
      "justify_items": null,
      "left": null,
      "margin": null,
      "max_height": null,
      "max_width": null,
      "min_height": null,
      "min_width": null,
      "object_fit": null,
      "object_position": null,
      "order": null,
      "overflow": null,
      "overflow_x": null,
      "overflow_y": null,
      "padding": null,
      "right": null,
      "top": null,
      "visibility": null,
      "width": null
     }
    },
    "5933ea9424874551b89f3f5151d81177": {
     "model_module": "@jupyter-widgets/controls",
     "model_module_version": "1.5.0",
     "model_name": "HTMLModel",
     "state": {
      "_dom_classes": [],
      "_model_module": "@jupyter-widgets/controls",
      "_model_module_version": "1.5.0",
      "_model_name": "HTMLModel",
      "_view_count": null,
      "_view_module": "@jupyter-widgets/controls",
      "_view_module_version": "1.5.0",
      "_view_name": "HTMLView",
      "description": "",
      "description_tooltip": null,
      "layout": "IPY_MODEL_7446c832c66c4c37938abf800e6435d9",
      "placeholder": "​",
      "style": "IPY_MODEL_dea845f190644c53bccc2e2045ad1440",
      "value": "100%"
     }
    },
    "5c656e3775f44e7b8a1729326288e5d1": {
     "model_module": "@jupyter-widgets/controls",
     "model_module_version": "1.5.0",
     "model_name": "HBoxModel",
     "state": {
      "_dom_classes": [],
      "_model_module": "@jupyter-widgets/controls",
      "_model_module_version": "1.5.0",
      "_model_name": "HBoxModel",
      "_view_count": null,
      "_view_module": "@jupyter-widgets/controls",
      "_view_module_version": "1.5.0",
      "_view_name": "HBoxView",
      "box_style": "",
      "children": [
       "IPY_MODEL_5933ea9424874551b89f3f5151d81177",
       "IPY_MODEL_d50e5b7433754589a1019b55bb62d31e",
       "IPY_MODEL_7a9d026c5d7e48ff88fe2b05b5a65d5e"
      ],
      "layout": "IPY_MODEL_f6f38c31ec9447c8bcaea2ac110ac356"
     }
    },
    "5e20db0a4b2d47b8aa0987d6afa2344b": {
     "model_module": "@jupyter-widgets/base",
     "model_module_version": "1.2.0",
     "model_name": "LayoutModel",
     "state": {
      "_model_module": "@jupyter-widgets/base",
      "_model_module_version": "1.2.0",
      "_model_name": "LayoutModel",
      "_view_count": null,
      "_view_module": "@jupyter-widgets/base",
      "_view_module_version": "1.2.0",
      "_view_name": "LayoutView",
      "align_content": null,
      "align_items": null,
      "align_self": null,
      "border": null,
      "bottom": null,
      "display": null,
      "flex": null,
      "flex_flow": null,
      "grid_area": null,
      "grid_auto_columns": null,
      "grid_auto_flow": null,
      "grid_auto_rows": null,
      "grid_column": null,
      "grid_gap": null,
      "grid_row": null,
      "grid_template_areas": null,
      "grid_template_columns": null,
      "grid_template_rows": null,
      "height": null,
      "justify_content": null,
      "justify_items": null,
      "left": null,
      "margin": null,
      "max_height": null,
      "max_width": null,
      "min_height": null,
      "min_width": null,
      "object_fit": null,
      "object_position": null,
      "order": null,
      "overflow": null,
      "overflow_x": null,
      "overflow_y": null,
      "padding": null,
      "right": null,
      "top": null,
      "visibility": null,
      "width": null
     }
    },
    "69939470e35942df81ab124556f0178c": {
     "model_module": "@jupyter-widgets/base",
     "model_module_version": "1.2.0",
     "model_name": "LayoutModel",
     "state": {
      "_model_module": "@jupyter-widgets/base",
      "_model_module_version": "1.2.0",
      "_model_name": "LayoutModel",
      "_view_count": null,
      "_view_module": "@jupyter-widgets/base",
      "_view_module_version": "1.2.0",
      "_view_name": "LayoutView",
      "align_content": null,
      "align_items": null,
      "align_self": null,
      "border": null,
      "bottom": null,
      "display": null,
      "flex": null,
      "flex_flow": null,
      "grid_area": null,
      "grid_auto_columns": null,
      "grid_auto_flow": null,
      "grid_auto_rows": null,
      "grid_column": null,
      "grid_gap": null,
      "grid_row": null,
      "grid_template_areas": null,
      "grid_template_columns": null,
      "grid_template_rows": null,
      "height": null,
      "justify_content": null,
      "justify_items": null,
      "left": null,
      "margin": null,
      "max_height": null,
      "max_width": null,
      "min_height": null,
      "min_width": null,
      "object_fit": null,
      "object_position": null,
      "order": null,
      "overflow": null,
      "overflow_x": null,
      "overflow_y": null,
      "padding": null,
      "right": null,
      "top": null,
      "visibility": null,
      "width": null
     }
    },
    "7446c832c66c4c37938abf800e6435d9": {
     "model_module": "@jupyter-widgets/base",
     "model_module_version": "1.2.0",
     "model_name": "LayoutModel",
     "state": {
      "_model_module": "@jupyter-widgets/base",
      "_model_module_version": "1.2.0",
      "_model_name": "LayoutModel",
      "_view_count": null,
      "_view_module": "@jupyter-widgets/base",
      "_view_module_version": "1.2.0",
      "_view_name": "LayoutView",
      "align_content": null,
      "align_items": null,
      "align_self": null,
      "border": null,
      "bottom": null,
      "display": null,
      "flex": null,
      "flex_flow": null,
      "grid_area": null,
      "grid_auto_columns": null,
      "grid_auto_flow": null,
      "grid_auto_rows": null,
      "grid_column": null,
      "grid_gap": null,
      "grid_row": null,
      "grid_template_areas": null,
      "grid_template_columns": null,
      "grid_template_rows": null,
      "height": null,
      "justify_content": null,
      "justify_items": null,
      "left": null,
      "margin": null,
      "max_height": null,
      "max_width": null,
      "min_height": null,
      "min_width": null,
      "object_fit": null,
      "object_position": null,
      "order": null,
      "overflow": null,
      "overflow_x": null,
      "overflow_y": null,
      "padding": null,
      "right": null,
      "top": null,
      "visibility": null,
      "width": null
     }
    },
    "7a9d026c5d7e48ff88fe2b05b5a65d5e": {
     "model_module": "@jupyter-widgets/controls",
     "model_module_version": "1.5.0",
     "model_name": "HTMLModel",
     "state": {
      "_dom_classes": [],
      "_model_module": "@jupyter-widgets/controls",
      "_model_module_version": "1.5.0",
      "_model_name": "HTMLModel",
      "_view_count": null,
      "_view_module": "@jupyter-widgets/controls",
      "_view_module_version": "1.5.0",
      "_view_name": "HTMLView",
      "description": "",
      "description_tooltip": null,
      "layout": "IPY_MODEL_aec9b9091bc14bf5ac365eb22b95b176",
      "placeholder": "​",
      "style": "IPY_MODEL_fbf398a4a9dd4e8287ec06b59b463541",
      "value": " 5511/5511 [00:00&lt;00:00, 11006.36it/s]"
     }
    },
    "90e2431963444a7abab778f0957daa88": {
     "model_module": "@jupyter-widgets/base",
     "model_module_version": "1.2.0",
     "model_name": "LayoutModel",
     "state": {
      "_model_module": "@jupyter-widgets/base",
      "_model_module_version": "1.2.0",
      "_model_name": "LayoutModel",
      "_view_count": null,
      "_view_module": "@jupyter-widgets/base",
      "_view_module_version": "1.2.0",
      "_view_name": "LayoutView",
      "align_content": null,
      "align_items": null,
      "align_self": null,
      "border": null,
      "bottom": null,
      "display": null,
      "flex": null,
      "flex_flow": null,
      "grid_area": null,
      "grid_auto_columns": null,
      "grid_auto_flow": null,
      "grid_auto_rows": null,
      "grid_column": null,
      "grid_gap": null,
      "grid_row": null,
      "grid_template_areas": null,
      "grid_template_columns": null,
      "grid_template_rows": null,
      "height": null,
      "justify_content": null,
      "justify_items": null,
      "left": null,
      "margin": null,
      "max_height": null,
      "max_width": null,
      "min_height": null,
      "min_width": null,
      "object_fit": null,
      "object_position": null,
      "order": null,
      "overflow": null,
      "overflow_x": null,
      "overflow_y": null,
      "padding": null,
      "right": null,
      "top": null,
      "visibility": null,
      "width": null
     }
    },
    "9f923e8063704f678bb4a51bd752e982": {
     "model_module": "@jupyter-widgets/base",
     "model_module_version": "1.2.0",
     "model_name": "LayoutModel",
     "state": {
      "_model_module": "@jupyter-widgets/base",
      "_model_module_version": "1.2.0",
      "_model_name": "LayoutModel",
      "_view_count": null,
      "_view_module": "@jupyter-widgets/base",
      "_view_module_version": "1.2.0",
      "_view_name": "LayoutView",
      "align_content": null,
      "align_items": null,
      "align_self": null,
      "border": null,
      "bottom": null,
      "display": null,
      "flex": null,
      "flex_flow": null,
      "grid_area": null,
      "grid_auto_columns": null,
      "grid_auto_flow": null,
      "grid_auto_rows": null,
      "grid_column": null,
      "grid_gap": null,
      "grid_row": null,
      "grid_template_areas": null,
      "grid_template_columns": null,
      "grid_template_rows": null,
      "height": null,
      "justify_content": null,
      "justify_items": null,
      "left": null,
      "margin": null,
      "max_height": null,
      "max_width": null,
      "min_height": null,
      "min_width": null,
      "object_fit": null,
      "object_position": null,
      "order": null,
      "overflow": null,
      "overflow_x": null,
      "overflow_y": null,
      "padding": null,
      "right": null,
      "top": null,
      "visibility": null,
      "width": null
     }
    },
    "a918375e18ac47a9902986cdd1bda5c6": {
     "model_module": "@jupyter-widgets/controls",
     "model_module_version": "1.5.0",
     "model_name": "HTMLModel",
     "state": {
      "_dom_classes": [],
      "_model_module": "@jupyter-widgets/controls",
      "_model_module_version": "1.5.0",
      "_model_name": "HTMLModel",
      "_view_count": null,
      "_view_module": "@jupyter-widgets/controls",
      "_view_module_version": "1.5.0",
      "_view_name": "HTMLView",
      "description": "",
      "description_tooltip": null,
      "layout": "IPY_MODEL_21eed3190f184f1194d9a3ae21a51693",
      "placeholder": "​",
      "style": "IPY_MODEL_14a17a8395994ee69ee20d232b467537",
      "value": " 5511/5511 [00:00&lt;00:00, 23902.30it/s]"
     }
    },
    "ac5c6a0425e14f5897edb8628127a150": {
     "model_module": "@jupyter-widgets/controls",
     "model_module_version": "1.5.0",
     "model_name": "HBoxModel",
     "state": {
      "_dom_classes": [],
      "_model_module": "@jupyter-widgets/controls",
      "_model_module_version": "1.5.0",
      "_model_name": "HBoxModel",
      "_view_count": null,
      "_view_module": "@jupyter-widgets/controls",
      "_view_module_version": "1.5.0",
      "_view_name": "HBoxView",
      "box_style": "",
      "children": [
       "IPY_MODEL_280844861b174ac084e75fa3d4b6361a",
       "IPY_MODEL_2d3a8475aea747b9958f7a444f81ea76",
       "IPY_MODEL_43486bbfe70648b68514d90a461fd650"
      ],
      "layout": "IPY_MODEL_58e2108625e14916a55f9513170cc010"
     }
    },
    "acd07a7dc0054b9e9ceeec5f0ec00f0d": {
     "model_module": "@jupyter-widgets/controls",
     "model_module_version": "1.5.0",
     "model_name": "ProgressStyleModel",
     "state": {
      "_model_module": "@jupyter-widgets/controls",
      "_model_module_version": "1.5.0",
      "_model_name": "ProgressStyleModel",
      "_view_count": null,
      "_view_module": "@jupyter-widgets/base",
      "_view_module_version": "1.2.0",
      "_view_name": "StyleView",
      "bar_color": null,
      "description_width": ""
     }
    },
    "aec9b9091bc14bf5ac365eb22b95b176": {
     "model_module": "@jupyter-widgets/base",
     "model_module_version": "1.2.0",
     "model_name": "LayoutModel",
     "state": {
      "_model_module": "@jupyter-widgets/base",
      "_model_module_version": "1.2.0",
      "_model_name": "LayoutModel",
      "_view_count": null,
      "_view_module": "@jupyter-widgets/base",
      "_view_module_version": "1.2.0",
      "_view_name": "LayoutView",
      "align_content": null,
      "align_items": null,
      "align_self": null,
      "border": null,
      "bottom": null,
      "display": null,
      "flex": null,
      "flex_flow": null,
      "grid_area": null,
      "grid_auto_columns": null,
      "grid_auto_flow": null,
      "grid_auto_rows": null,
      "grid_column": null,
      "grid_gap": null,
      "grid_row": null,
      "grid_template_areas": null,
      "grid_template_columns": null,
      "grid_template_rows": null,
      "height": null,
      "justify_content": null,
      "justify_items": null,
      "left": null,
      "margin": null,
      "max_height": null,
      "max_width": null,
      "min_height": null,
      "min_width": null,
      "object_fit": null,
      "object_position": null,
      "order": null,
      "overflow": null,
      "overflow_x": null,
      "overflow_y": null,
      "padding": null,
      "right": null,
      "top": null,
      "visibility": null,
      "width": null
     }
    },
    "bf938ad17c454ee791c8de2f4cd1a715": {
     "model_module": "@jupyter-widgets/controls",
     "model_module_version": "1.5.0",
     "model_name": "HBoxModel",
     "state": {
      "_dom_classes": [],
      "_model_module": "@jupyter-widgets/controls",
      "_model_module_version": "1.5.0",
      "_model_name": "HBoxModel",
      "_view_count": null,
      "_view_module": "@jupyter-widgets/controls",
      "_view_module_version": "1.5.0",
      "_view_name": "HBoxView",
      "box_style": "",
      "children": [
       "IPY_MODEL_f660afbd903a4d08bd1b01ed98088e36",
       "IPY_MODEL_4f33a90b096046909e915882261fc989",
       "IPY_MODEL_a918375e18ac47a9902986cdd1bda5c6"
      ],
      "layout": "IPY_MODEL_69939470e35942df81ab124556f0178c"
     }
    },
    "d50e5b7433754589a1019b55bb62d31e": {
     "model_module": "@jupyter-widgets/controls",
     "model_module_version": "1.5.0",
     "model_name": "FloatProgressModel",
     "state": {
      "_dom_classes": [],
      "_model_module": "@jupyter-widgets/controls",
      "_model_module_version": "1.5.0",
      "_model_name": "FloatProgressModel",
      "_view_count": null,
      "_view_module": "@jupyter-widgets/controls",
      "_view_module_version": "1.5.0",
      "_view_name": "ProgressView",
      "bar_style": "success",
      "description": "",
      "description_tooltip": null,
      "layout": "IPY_MODEL_5e20db0a4b2d47b8aa0987d6afa2344b",
      "max": 5511,
      "min": 0,
      "orientation": "horizontal",
      "style": "IPY_MODEL_f0b9fc19af814fffa90693e631b18508",
      "value": 5511
     }
    },
    "dea845f190644c53bccc2e2045ad1440": {
     "model_module": "@jupyter-widgets/controls",
     "model_module_version": "1.5.0",
     "model_name": "DescriptionStyleModel",
     "state": {
      "_model_module": "@jupyter-widgets/controls",
      "_model_module_version": "1.5.0",
      "_model_name": "DescriptionStyleModel",
      "_view_count": null,
      "_view_module": "@jupyter-widgets/base",
      "_view_module_version": "1.2.0",
      "_view_name": "StyleView",
      "description_width": ""
     }
    },
    "ea4ddbd55c754e64929d76db962e572d": {
     "model_module": "@jupyter-widgets/controls",
     "model_module_version": "1.5.0",
     "model_name": "DescriptionStyleModel",
     "state": {
      "_model_module": "@jupyter-widgets/controls",
      "_model_module_version": "1.5.0",
      "_model_name": "DescriptionStyleModel",
      "_view_count": null,
      "_view_module": "@jupyter-widgets/base",
      "_view_module_version": "1.2.0",
      "_view_name": "StyleView",
      "description_width": ""
     }
    },
    "f0b9fc19af814fffa90693e631b18508": {
     "model_module": "@jupyter-widgets/controls",
     "model_module_version": "1.5.0",
     "model_name": "ProgressStyleModel",
     "state": {
      "_model_module": "@jupyter-widgets/controls",
      "_model_module_version": "1.5.0",
      "_model_name": "ProgressStyleModel",
      "_view_count": null,
      "_view_module": "@jupyter-widgets/base",
      "_view_module_version": "1.2.0",
      "_view_name": "StyleView",
      "bar_color": null,
      "description_width": ""
     }
    },
    "f660afbd903a4d08bd1b01ed98088e36": {
     "model_module": "@jupyter-widgets/controls",
     "model_module_version": "1.5.0",
     "model_name": "HTMLModel",
     "state": {
      "_dom_classes": [],
      "_model_module": "@jupyter-widgets/controls",
      "_model_module_version": "1.5.0",
      "_model_name": "HTMLModel",
      "_view_count": null,
      "_view_module": "@jupyter-widgets/controls",
      "_view_module_version": "1.5.0",
      "_view_name": "HTMLView",
      "description": "",
      "description_tooltip": null,
      "layout": "IPY_MODEL_1aeb21b6a8a1400d8484f9ab9475b739",
      "placeholder": "​",
      "style": "IPY_MODEL_1c3c9bb025de4181a2fbf730af9e0bbc",
      "value": "100%"
     }
    },
    "f6f38c31ec9447c8bcaea2ac110ac356": {
     "model_module": "@jupyter-widgets/base",
     "model_module_version": "1.2.0",
     "model_name": "LayoutModel",
     "state": {
      "_model_module": "@jupyter-widgets/base",
      "_model_module_version": "1.2.0",
      "_model_name": "LayoutModel",
      "_view_count": null,
      "_view_module": "@jupyter-widgets/base",
      "_view_module_version": "1.2.0",
      "_view_name": "LayoutView",
      "align_content": null,
      "align_items": null,
      "align_self": null,
      "border": null,
      "bottom": null,
      "display": null,
      "flex": null,
      "flex_flow": null,
      "grid_area": null,
      "grid_auto_columns": null,
      "grid_auto_flow": null,
      "grid_auto_rows": null,
      "grid_column": null,
      "grid_gap": null,
      "grid_row": null,
      "grid_template_areas": null,
      "grid_template_columns": null,
      "grid_template_rows": null,
      "height": null,
      "justify_content": null,
      "justify_items": null,
      "left": null,
      "margin": null,
      "max_height": null,
      "max_width": null,
      "min_height": null,
      "min_width": null,
      "object_fit": null,
      "object_position": null,
      "order": null,
      "overflow": null,
      "overflow_x": null,
      "overflow_y": null,
      "padding": null,
      "right": null,
      "top": null,
      "visibility": null,
      "width": null
     }
    },
    "fbf398a4a9dd4e8287ec06b59b463541": {
     "model_module": "@jupyter-widgets/controls",
     "model_module_version": "1.5.0",
     "model_name": "DescriptionStyleModel",
     "state": {
      "_model_module": "@jupyter-widgets/controls",
      "_model_module_version": "1.5.0",
      "_model_name": "DescriptionStyleModel",
      "_view_count": null,
      "_view_module": "@jupyter-widgets/base",
      "_view_module_version": "1.2.0",
      "_view_name": "StyleView",
      "description_width": ""
     }
    }
   }
  }
 },
 "nbformat": 4,
 "nbformat_minor": 5
}
